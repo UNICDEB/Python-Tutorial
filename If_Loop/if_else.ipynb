{
 "cells": [
  {
   "cell_type": "code",
   "execution_count": null,
   "metadata": {},
   "outputs": [],
   "source": [
    "# Basic IF syntex\n",
    "# if <condition>:\n",
    "#    <expression>"
   ]
  },
  {
   "cell_type": "code",
   "execution_count": 2,
   "metadata": {},
   "outputs": [],
   "source": [
    "# IF statement\n",
    "\n",
    "a = 0\n",
    "b = 20\n",
    "if a > b:\n",
    "  print(\"b is greater than a\")"
   ]
  },
  {
   "cell_type": "code",
   "execution_count": 9,
   "metadata": {},
   "outputs": [],
   "source": [
    "a =10\n",
    "b=30\n",
    "\n",
    "if(a>b):\n",
    " print(\"v\")\n",
    " print(\"gfg\")\n",
    " print(\"gfhf\")\n"
   ]
  },
  {
   "cell_type": "code",
   "execution_count": 10,
   "metadata": {},
   "outputs": [
    {
     "name": "stdout",
     "output_type": "stream",
     "text": [
      "a is greater than b\n"
     ]
    }
   ],
   "source": [
    "# One line if statement\n",
    "a = 50\n",
    "b = 20\n",
    "\n",
    "if a > b: print(\"a is greater than b\")"
   ]
  },
  {
   "cell_type": "code",
   "execution_count": null,
   "metadata": {},
   "outputs": [],
   "source": [
    "'''\n",
    "if condition:\n",
    "    # block of code if condition is True\n",
    "\n",
    "else:\n",
    "    # block of code if condition is False\n",
    "    \n",
    "'''"
   ]
  },
  {
   "cell_type": "code",
   "execution_count": 13,
   "metadata": {},
   "outputs": [
    {
     "name": "stdout",
     "output_type": "stream",
     "text": [
      "True\n"
     ]
    }
   ],
   "source": [
    "# If - Else \n",
    "x = 30\n",
    "y = 10\n",
    "\n",
    "if x > y:\n",
    "    print(\"True\")\n",
    "\n",
    "else:\n",
    "    \n",
    "    print(\"False\")"
   ]
  },
  {
   "cell_type": "code",
   "execution_count": 16,
   "metadata": {},
   "outputs": [
    {
     "name": "stdout",
     "output_type": "stream",
     "text": [
      "The values are a = 10 and b = 20\n",
      "Value a and b is  10 20\n"
     ]
    }
   ],
   "source": [
    "a = 10\n",
    "b=20\n",
    "# The values are a=10 and b = 20\n",
    "print(f\"The values are a = {a} and b = {b}\")\n",
    "print(\"Value a and b is \", a,b)\n",
    "#print(\"Value \",b)"
   ]
  },
  {
   "cell_type": "code",
   "execution_count": 18,
   "metadata": {},
   "outputs": [
    {
     "name": "stdout",
     "output_type": "stream",
     "text": [
      "10 is greater than 0\n"
     ]
    }
   ],
   "source": [
    "# Short hand\n",
    "a = 0\n",
    "b = 10\n",
    "print(f\"{a} is greater than {b}\") if a > b else print(f\"{b} is greater than {a}\")"
   ]
  },
  {
   "cell_type": "code",
   "execution_count": 19,
   "metadata": {},
   "outputs": [
    {
     "name": "stdout",
     "output_type": "stream",
     "text": [
      "30 is greater than 10\n"
     ]
    }
   ],
   "source": [
    "# one line - Three Condition\n",
    "a = 10\n",
    "b = 30\n",
    "print(f\"{a} is greater than {b}\") if a > b else print(\"a and b are equall\") if a == b else print(f\"{b} is greater than {a}\")"
   ]
  },
  {
   "cell_type": "code",
   "execution_count": 21,
   "metadata": {},
   "outputs": [
    {
     "name": "stdout",
     "output_type": "stream",
     "text": [
      "Both conditions are True\n"
     ]
    }
   ],
   "source": [
    "# Using \"and\" \n",
    "a = 200\n",
    "b = 30\n",
    "c = 1000\n",
    "if (a > b and c > a):\n",
    "  print(\"Both conditions are True\")\n",
    "else:\n",
    "    print(\"Both conditions are not True\")"
   ]
  },
  {
   "cell_type": "code",
   "execution_count": 22,
   "metadata": {},
   "outputs": [
    {
     "name": "stdout",
     "output_type": "stream",
     "text": [
      "Any one conditions are True\n"
     ]
    }
   ],
   "source": [
    "# Using \"or\" \n",
    "a = 50\n",
    "b = 30\n",
    "c = 10\n",
    "if a > b or c > a:\n",
    "  print(\"Any one conditions are True\")\n",
    "else:\n",
    "    print(\"Any one conditions are not True\")\n"
   ]
  },
  {
   "cell_type": "code",
   "execution_count": null,
   "metadata": {},
   "outputs": [],
   "source": [
    "# Nested If\n",
    "\"\"\"\n",
    "    # outer if statement\n",
    "if condition1:\n",
    "    # statement(s)\n",
    "\n",
    "    # inner if statement\n",
    "    if condition2: \n",
    "        # statement(s)\n",
    "    \"\"\""
   ]
  },
  {
   "cell_type": "code",
   "execution_count": 25,
   "metadata": {},
   "outputs": [],
   "source": [
    "# Nested If\n",
    "x = 1\n",
    "\n",
    "if x > 10:\n",
    "  print(\"Above ten,\")\n",
    "  if x > 20:\n",
    "    print(\"and also above 20!\")\n",
    "  else:\n",
    "    print(\"but not above 20.\")"
   ]
  },
  {
   "cell_type": "code",
   "execution_count": 26,
   "metadata": {},
   "outputs": [
    {
     "name": "stdout",
     "output_type": "stream",
     "text": [
      "df\n"
     ]
    }
   ],
   "source": [
    "a= 10\n",
    "if(a>20):\n",
    "    print(\"ty\")\n",
    "else:\n",
    "    if(a>10):\n",
    "        print(\"yfg\")\n",
    "    else:\n",
    "        if(a>5):\n",
    "            print(\"df\")\n",
    "        else:\n",
    "            print(\"kl\")"
   ]
  },
  {
   "cell_type": "code",
   "execution_count": null,
   "metadata": {},
   "outputs": [],
   "source": [
    "# elif\n",
    "\"\"\"\n",
    "if condition1:\n",
    "    # code block 1\n",
    "\n",
    "elif condition2:\n",
    "    # code block 2\n",
    "\n",
    "else: \n",
    "    # code block 3\n",
    "    \"\"\""
   ]
  },
  {
   "cell_type": "code",
   "execution_count": 28,
   "metadata": {},
   "outputs": [
    {
     "name": "stdout",
     "output_type": "stream",
     "text": [
      "x is greater than y.\n"
     ]
    }
   ],
   "source": [
    "# elif Statement\n",
    "x = 4\n",
    "y = 3\n",
    "\n",
    "if x < y:\n",
    "    print(\"x is smaller than y.\")\n",
    "elif (x == y):\n",
    "    print(\"x is equal to y.\")\n",
    "else:\n",
    "    print(\"x is greater than y.\")"
   ]
  },
  {
   "cell_type": "code",
   "execution_count": 30,
   "metadata": {},
   "outputs": [
    {
     "name": "stdout",
     "output_type": "stream",
     "text": [
      "Weather not recognized.\n"
     ]
    }
   ],
   "source": [
    "# Several elif conditions\n",
    "tomorrow = \"snowy1\"\n",
    "\n",
    "if tomorrow == \"warm\":\n",
    "    print(\"I'll go to the sea.\")\n",
    "elif tomorrow == \"very hot\":\n",
    "    print(\"I'll go to the forest.\")\n",
    "elif tomorrow == \"snowy\":\n",
    "    print(\"I'll build a snowman.\")\n",
    "elif tomorrow == \"rainy\":\n",
    "    print(\"I'll stay home.\")\n",
    "else:\n",
    "    print(\"Weather not recognized.\")"
   ]
  },
  {
   "cell_type": "code",
   "execution_count": null,
   "metadata": {},
   "outputs": [],
   "source": []
  },
  {
   "cell_type": "code",
   "execution_count": null,
   "metadata": {},
   "outputs": [],
   "source": []
  },
  {
   "cell_type": "code",
   "execution_count": null,
   "metadata": {},
   "outputs": [],
   "source": []
  }
 ],
 "metadata": {
  "kernelspec": {
   "display_name": "Python 3",
   "language": "python",
   "name": "python3"
  },
  "language_info": {
   "codemirror_mode": {
    "name": "ipython",
    "version": 3
   },
   "file_extension": ".py",
   "mimetype": "text/x-python",
   "name": "python",
   "nbconvert_exporter": "python",
   "pygments_lexer": "ipython3",
   "version": "3.10.11"
  },
  "orig_nbformat": 4
 },
 "nbformat": 4,
 "nbformat_minor": 2
}
