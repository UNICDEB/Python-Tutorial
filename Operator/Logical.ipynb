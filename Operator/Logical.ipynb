{
 "cells": [
  {
   "cell_type": "code",
   "execution_count": 2,
   "metadata": {},
   "outputs": [
    {
     "name": "stdout",
     "output_type": "stream",
     "text": [
      "Result is -  False\n"
     ]
    }
   ],
   "source": [
    "# Logical and Operator\n",
    "X = 20\n",
    "c = (X>4 and X<15)\n",
    "print(\"Result is - \", c)"
   ]
  },
  {
   "cell_type": "code",
   "execution_count": 3,
   "metadata": {},
   "outputs": [
    {
     "name": "stdout",
     "output_type": "stream",
     "text": [
      "Result is -  True\n"
     ]
    }
   ],
   "source": [
    "# Logical or Operator\n",
    "X = 20\n",
    "c = (X>4 or X<15)\n",
    "print(\"Result is - \", c)"
   ]
  },
  {
   "cell_type": "code",
   "execution_count": 4,
   "metadata": {},
   "outputs": [
    {
     "name": "stdout",
     "output_type": "stream",
     "text": [
      "Result is -  True\n"
     ]
    }
   ],
   "source": [
    "# Logical not Operator\n",
    "X = 20\n",
    "c = not(X>4 and X<15)\n",
    "print(\"Result is - \", c)"
   ]
  },
  {
   "cell_type": "code",
   "execution_count": null,
   "metadata": {},
   "outputs": [],
   "source": []
  }
 ],
 "metadata": {
  "kernelspec": {
   "display_name": "Python 3",
   "language": "python",
   "name": "python3"
  },
  "language_info": {
   "codemirror_mode": {
    "name": "ipython",
    "version": 3
   },
   "file_extension": ".py",
   "mimetype": "text/x-python",
   "name": "python",
   "nbconvert_exporter": "python",
   "pygments_lexer": "ipython3",
   "version": "3.10.11"
  },
  "orig_nbformat": 4
 },
 "nbformat": 4,
 "nbformat_minor": 2
}
