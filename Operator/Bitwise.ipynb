{
 "cells": [
  {
   "cell_type": "code",
   "execution_count": 1,
   "metadata": {},
   "outputs": [
    {
     "name": "stdout",
     "output_type": "stream",
     "text": [
      "Result is -  1\n"
     ]
    }
   ],
   "source": [
    "# Bitwise AND(&) operator\n",
    "a = 3\n",
    "b = 5\n",
    "c = a&b\n",
    "print(\"Result is - \", c)"
   ]
  },
  {
   "cell_type": "code",
   "execution_count": 2,
   "metadata": {},
   "outputs": [
    {
     "name": "stdout",
     "output_type": "stream",
     "text": [
      "Result is -  7\n"
     ]
    }
   ],
   "source": [
    "# Bitwise OR(|) operator\n",
    "a = 3\n",
    "b = 5\n",
    "c = a|b\n",
    "print(\"Result is - \", c)"
   ]
  },
  {
   "cell_type": "code",
   "execution_count": 3,
   "metadata": {},
   "outputs": [
    {
     "name": "stdout",
     "output_type": "stream",
     "text": [
      "Result is -  6\n"
     ]
    }
   ],
   "source": [
    "# Bitwise XOR(^) operator\n",
    "a = 3\n",
    "b = 5\n",
    "c = a^b\n",
    "print(\"Result is - \", c)"
   ]
  },
  {
   "cell_type": "code",
   "execution_count": 6,
   "metadata": {},
   "outputs": [
    {
     "name": "stdout",
     "output_type": "stream",
     "text": [
      "Result is -  -4\n"
     ]
    }
   ],
   "source": [
    "# Bitwise NOT(~) operator\n",
    "a = 3\n",
    "c = ~a\n",
    "print(\"Result is - \", c)"
   ]
  },
  {
   "cell_type": "code",
   "execution_count": 7,
   "metadata": {},
   "outputs": [
    {
     "name": "stdout",
     "output_type": "stream",
     "text": [
      "Result is -  4\n"
     ]
    }
   ],
   "source": [
    "# Bitwise Sign Right Sihft(>>) operator\n",
    "a = 16\n",
    "b = 2\n",
    "c = a>>b\n",
    "print(\"Result is - \", c)"
   ]
  },
  {
   "cell_type": "code",
   "execution_count": 8,
   "metadata": {},
   "outputs": [
    {
     "name": "stdout",
     "output_type": "stream",
     "text": [
      "Result is -  64\n"
     ]
    }
   ],
   "source": [
    "# Bitwise Sign Left Sihft(<<) operator\n",
    "a = 16\n",
    "b = 2\n",
    "c = a<<b\n",
    "print(\"Result is - \", c)"
   ]
  },
  {
   "cell_type": "code",
   "execution_count": null,
   "metadata": {},
   "outputs": [],
   "source": []
  },
  {
   "cell_type": "code",
   "execution_count": null,
   "metadata": {},
   "outputs": [],
   "source": []
  }
 ],
 "metadata": {
  "kernelspec": {
   "display_name": "Python 3",
   "language": "python",
   "name": "python3"
  },
  "language_info": {
   "codemirror_mode": {
    "name": "ipython",
    "version": 3
   },
   "file_extension": ".py",
   "mimetype": "text/x-python",
   "name": "python",
   "nbconvert_exporter": "python",
   "pygments_lexer": "ipython3",
   "version": "3.10.11"
  },
  "orig_nbformat": 4
 },
 "nbformat": 4,
 "nbformat_minor": 2
}
