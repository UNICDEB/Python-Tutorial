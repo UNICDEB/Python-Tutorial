{
 "cells": [
  {
   "cell_type": "code",
   "execution_count": 1,
   "metadata": {},
   "outputs": [
    {
     "name": "stdout",
     "output_type": "stream",
     "text": [
      "Value is -  5\n"
     ]
    }
   ],
   "source": [
    "# Simple = operator\n",
    "x = 5\n",
    "print(\"Value is - \", x)"
   ]
  },
  {
   "cell_type": "code",
   "execution_count": 2,
   "metadata": {},
   "outputs": [
    {
     "name": "stdout",
     "output_type": "stream",
     "text": [
      "The Result is -  15\n"
     ]
    }
   ],
   "source": [
    "# += operator \n",
    "a=10\n",
    "b=5\n",
    "a+=b  # a = a + b\n",
    "print(\"The Result is - \", a)"
   ]
  },
  {
   "cell_type": "code",
   "execution_count": 3,
   "metadata": {},
   "outputs": [
    {
     "name": "stdout",
     "output_type": "stream",
     "text": [
      "The Result is -  5\n"
     ]
    }
   ],
   "source": [
    "# -= operator \n",
    "a=10\n",
    "b=5\n",
    "a-=b # a = a - b\n",
    "print(\"The Result is - \", a)"
   ]
  },
  {
   "cell_type": "code",
   "execution_count": 4,
   "metadata": {},
   "outputs": [
    {
     "name": "stdout",
     "output_type": "stream",
     "text": [
      "The Result is -  50\n"
     ]
    }
   ],
   "source": [
    "# *= operator \n",
    "a=10\n",
    "b=5\n",
    "a*=b # a = a * b\n",
    "print(\"The Result is - \", a)"
   ]
  },
  {
   "cell_type": "code",
   "execution_count": 5,
   "metadata": {},
   "outputs": [
    {
     "name": "stdout",
     "output_type": "stream",
     "text": [
      "The Result is -  2.0\n"
     ]
    }
   ],
   "source": [
    "# /= operator \n",
    "a=10\n",
    "b=5\n",
    "a/=b # a = a / b\n",
    "print(\"The Result is - \", a)"
   ]
  },
  {
   "cell_type": "code",
   "execution_count": 6,
   "metadata": {},
   "outputs": [
    {
     "name": "stdout",
     "output_type": "stream",
     "text": [
      "The Result is -  2\n"
     ]
    }
   ],
   "source": [
    "# %= operator \n",
    "a=17\n",
    "b=5\n",
    "a%=b # a = a % b\n",
    "print(\"The Result is - \", a)"
   ]
  },
  {
   "cell_type": "code",
   "execution_count": 7,
   "metadata": {},
   "outputs": [
    {
     "name": "stdout",
     "output_type": "stream",
     "text": [
      "The Result is -  4\n"
     ]
    }
   ],
   "source": [
    "# //= operator \n",
    "a=25\n",
    "b=6\n",
    "a//=b # a = a // b\n",
    "print(\"The Result is - \", a)"
   ]
  },
  {
   "cell_type": "code",
   "execution_count": 8,
   "metadata": {},
   "outputs": [
    {
     "name": "stdout",
     "output_type": "stream",
     "text": [
      "The Result is -  16\n"
     ]
    }
   ],
   "source": [
    "# **= operator \n",
    "a=2\n",
    "b=4\n",
    "a**=b # a = a ** b\n",
    "print(\"The Result is - \", a)"
   ]
  },
  {
   "cell_type": "code",
   "execution_count": 12,
   "metadata": {},
   "outputs": [
    {
     "name": "stdout",
     "output_type": "stream",
     "text": [
      "The Result is -  6\n"
     ]
    }
   ],
   "source": [
    "# &= operator \n",
    "a=6\n",
    "b=7\n",
    "a&=b # a = a & b\n",
    "print(\"The Result is - \", a)"
   ]
  },
  {
   "cell_type": "code",
   "execution_count": 13,
   "metadata": {},
   "outputs": [
    {
     "name": "stdout",
     "output_type": "stream",
     "text": [
      "The Result is -  7\n"
     ]
    }
   ],
   "source": [
    "# |= operator \n",
    "a=2\n",
    "b=5\n",
    "a|=b # a = a | b\n",
    "print(\"The Result is - \", a)"
   ]
  },
  {
   "cell_type": "code",
   "execution_count": 14,
   "metadata": {},
   "outputs": [
    {
     "name": "stdout",
     "output_type": "stream",
     "text": [
      "The Result is -  6\n"
     ]
    }
   ],
   "source": [
    "#^= operator \n",
    "a= 4\n",
    "b= 2\n",
    "a^=b # a = a ^ b\n",
    "print(\"The Result is - \", a)"
   ]
  },
  {
   "cell_type": "code",
   "execution_count": 15,
   "metadata": {},
   "outputs": [
    {
     "name": "stdout",
     "output_type": "stream",
     "text": [
      "The Result is -  0\n"
     ]
    }
   ],
   "source": [
    "# >>= operator \n",
    "a=10\n",
    "b=5\n",
    "a>>=b # a = a >> b\n",
    "print(\"The Result is - \", a)"
   ]
  },
  {
   "cell_type": "code",
   "execution_count": 16,
   "metadata": {},
   "outputs": [
    {
     "name": "stdout",
     "output_type": "stream",
     "text": [
      "The Result is -  40\n"
     ]
    }
   ],
   "source": [
    "# <<= operator \n",
    "a=10\n",
    "b=2\n",
    "a<<=b # a = a << b\n",
    "print(\"The Result is - \", a)"
   ]
  }
 ],
 "metadata": {
  "kernelspec": {
   "display_name": "Python 3",
   "language": "python",
   "name": "python3"
  },
  "language_info": {
   "codemirror_mode": {
    "name": "ipython",
    "version": 3
   },
   "file_extension": ".py",
   "mimetype": "text/x-python",
   "name": "python",
   "nbconvert_exporter": "python",
   "pygments_lexer": "ipython3",
   "version": "3.10.11"
  },
  "orig_nbformat": 4
 },
 "nbformat": 4,
 "nbformat_minor": 2
}
