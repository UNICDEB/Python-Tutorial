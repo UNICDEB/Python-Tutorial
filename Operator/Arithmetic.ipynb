{
 "cells": [
  {
   "cell_type": "code",
   "execution_count": 2,
   "metadata": {},
   "outputs": [
    {
     "name": "stdout",
     "output_type": "stream",
     "text": [
      "The Result is -  30\n"
     ]
    }
   ],
   "source": [
    "# Addition Operator\n",
    "a=10\n",
    "b=20\n",
    "c=a+b\n",
    "print(\"The Result is - \", c)"
   ]
  },
  {
   "cell_type": "code",
   "execution_count": 3,
   "metadata": {},
   "outputs": [
    {
     "name": "stdout",
     "output_type": "stream",
     "text": [
      "The Result is -  10\n"
     ]
    }
   ],
   "source": [
    "# Subtraction Operator\n",
    "a=30\n",
    "b=20\n",
    "c=a-b\n",
    "print(\"The Result is - \", c)"
   ]
  },
  {
   "cell_type": "code",
   "execution_count": 4,
   "metadata": {},
   "outputs": [
    {
     "name": "stdout",
     "output_type": "stream",
     "text": [
      "The Result is -  15\n"
     ]
    }
   ],
   "source": [
    "# Multiplication Operator\n",
    "a=5\n",
    "b=3\n",
    "c=a*b\n",
    "print(\"The Result is - \", c)"
   ]
  },
  {
   "cell_type": "code",
   "execution_count": 7,
   "metadata": {},
   "outputs": [
    {
     "name": "stdout",
     "output_type": "stream",
     "text": [
      "The Result is -  20.0\n"
     ]
    }
   ],
   "source": [
    "# Division Operator\n",
    "a=40\n",
    "b=2\n",
    "c=a/b\n",
    "print(\"The Result is - \", c)"
   ]
  },
  {
   "cell_type": "code",
   "execution_count": 9,
   "metadata": {},
   "outputs": [
    {
     "name": "stdout",
     "output_type": "stream",
     "text": [
      "The Result is -  0\n"
     ]
    }
   ],
   "source": [
    "# Modulas Operator - It retursn the remainder value\n",
    "a=39\n",
    "b=5\n",
    "c=a%b\n",
    "print(\"The Result is - \", c)"
   ]
  },
  {
   "cell_type": "code",
   "execution_count": 10,
   "metadata": {},
   "outputs": [
    {
     "name": "stdout",
     "output_type": "stream",
     "text": [
      "The Result is -  9\n"
     ]
    }
   ],
   "source": [
    "# Exponentiation Operator - Power\n",
    "a= 3\n",
    "b= 2\n",
    "c= a ** b \n",
    "print(\"The Result is - \", c)"
   ]
  },
  {
   "cell_type": "code",
   "execution_count": 12,
   "metadata": {},
   "outputs": [
    {
     "name": "stdout",
     "output_type": "stream",
     "text": [
      "The Result is -  3\n"
     ]
    }
   ],
   "source": [
    "# Floor Division Operator - It returns only int. result value\n",
    "a= 7\n",
    "b= 2\n",
    "c= a // b \n",
    "print(\"The Result is - \", c)"
   ]
  },
  {
   "cell_type": "code",
   "execution_count": null,
   "metadata": {},
   "outputs": [],
   "source": []
  }
 ],
 "metadata": {
  "kernelspec": {
   "display_name": "Python 3",
   "language": "python",
   "name": "python3"
  },
  "language_info": {
   "codemirror_mode": {
    "name": "ipython",
    "version": 3
   },
   "file_extension": ".py",
   "mimetype": "text/x-python",
   "name": "python",
   "nbconvert_exporter": "python",
   "pygments_lexer": "ipython3",
   "version": "3.10.11"
  },
  "orig_nbformat": 4
 },
 "nbformat": 4,
 "nbformat_minor": 2
}
