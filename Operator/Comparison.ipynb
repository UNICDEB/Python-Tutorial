{
 "cells": [
  {
   "cell_type": "code",
   "execution_count": 2,
   "metadata": {},
   "outputs": [
    {
     "name": "stdout",
     "output_type": "stream",
     "text": [
      "Result is -  True\n"
     ]
    }
   ],
   "source": [
    "# Equall (==) operator\n",
    "a = 10\n",
    "b = 10\n",
    "c = (a==b)\n",
    "print(\"Result is - \", c)"
   ]
  },
  {
   "cell_type": "code",
   "execution_count": 5,
   "metadata": {},
   "outputs": [
    {
     "name": "stdout",
     "output_type": "stream",
     "text": [
      "Result is -  True\n"
     ]
    }
   ],
   "source": [
    "# Not Equall (!=) operator\n",
    "a = 10\n",
    "b = 16\n",
    "#c = (a!=b)\n",
    "print(\"Result is - \", a!=b)"
   ]
  },
  {
   "cell_type": "code",
   "execution_count": 7,
   "metadata": {},
   "outputs": [
    {
     "name": "stdout",
     "output_type": "stream",
     "text": [
      "Result is -  True\n"
     ]
    }
   ],
   "source": [
    "# Greater Than (>) operator\n",
    "a = 17\n",
    "b = 10\n",
    "c = (a>b)\n",
    "print(\"Result is - \", c)"
   ]
  },
  {
   "cell_type": "code",
   "execution_count": 9,
   "metadata": {},
   "outputs": [
    {
     "name": "stdout",
     "output_type": "stream",
     "text": [
      "Result is -  True\n"
     ]
    }
   ],
   "source": [
    "# Less Than (<) operator\n",
    "a = 17\n",
    "b = 67\n",
    "c = (a<b)\n",
    "print(\"Result is - \", c)"
   ]
  },
  {
   "cell_type": "code",
   "execution_count": 10,
   "metadata": {},
   "outputs": [
    {
     "name": "stdout",
     "output_type": "stream",
     "text": [
      "Result is -  True\n"
     ]
    }
   ],
   "source": [
    "# Greater Than Equall (>=) operator\n",
    "a = 10\n",
    "b = 10\n",
    "c = (a>=b)\n",
    "print(\"Result is - \", c)"
   ]
  },
  {
   "cell_type": "code",
   "execution_count": 11,
   "metadata": {},
   "outputs": [
    {
     "name": "stdout",
     "output_type": "stream",
     "text": [
      "Result is -  True\n"
     ]
    }
   ],
   "source": [
    "# Less Than (<=) operator\n",
    "a = 10\n",
    "b = 10\n",
    "c = (a<=b)\n",
    "print(\"Result is - \", c)"
   ]
  },
  {
   "cell_type": "code",
   "execution_count": null,
   "metadata": {},
   "outputs": [],
   "source": []
  }
 ],
 "metadata": {
  "kernelspec": {
   "display_name": "Python 3",
   "language": "python",
   "name": "python3"
  },
  "language_info": {
   "codemirror_mode": {
    "name": "ipython",
    "version": 3
   },
   "file_extension": ".py",
   "mimetype": "text/x-python",
   "name": "python",
   "nbconvert_exporter": "python",
   "pygments_lexer": "ipython3",
   "version": "3.10.11"
  },
  "orig_nbformat": 4
 },
 "nbformat": 4,
 "nbformat_minor": 2
}
