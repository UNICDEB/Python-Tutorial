{
 "cells": [
  {
   "cell_type": "code",
   "execution_count": 3,
   "metadata": {},
   "outputs": [
    {
     "name": "stdout",
     "output_type": "stream",
     "text": [
      "Result is -  False\n"
     ]
    }
   ],
   "source": [
    "# in - operator\n",
    "# Returns True if a sequence with the specified value is present in the object\n",
    "\n",
    "a = \"cdac\"\n",
    "b = \"cdc\"\n",
    "c = a in b\n",
    "print(\"Result is - \", c)"
   ]
  },
  {
   "cell_type": "code",
   "execution_count": 4,
   "metadata": {},
   "outputs": [
    {
     "name": "stdout",
     "output_type": "stream",
     "text": [
      "Result is -  True\n"
     ]
    }
   ],
   "source": [
    "# not in - operator\n",
    "# Returns True if a sequence with the specified value is not present in the object\n",
    "\n",
    "a = \"cdac\"\n",
    "b = \"cdc\"\n",
    "c = a not in b\n",
    "print(\"Result is - \", c)"
   ]
  }
 ],
 "metadata": {
  "kernelspec": {
   "display_name": "Python 3",
   "language": "python",
   "name": "python3"
  },
  "language_info": {
   "codemirror_mode": {
    "name": "ipython",
    "version": 3
   },
   "file_extension": ".py",
   "mimetype": "text/x-python",
   "name": "python",
   "nbconvert_exporter": "python",
   "pygments_lexer": "ipython3",
   "version": "3.10.11"
  },
  "orig_nbformat": 4
 },
 "nbformat": 4,
 "nbformat_minor": 2
}
