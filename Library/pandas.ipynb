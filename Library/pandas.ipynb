{
 "cells": [
  {
   "cell_type": "code",
   "execution_count": 27,
   "metadata": {},
   "outputs": [
    {
     "name": "stdout",
     "output_type": "stream",
     "text": [
      "<class 'dict'>\n",
      "    cars  passings\n",
      "0    BMW         3\n",
      "1  Volvo         7\n",
      "2   Ford         2\n",
      "<class 'pandas.core.frame.DataFrame'>\n"
     ]
    }
   ],
   "source": [
    "import pandas as pd\n",
    "\n",
    "x = {\n",
    "  'cars': [\"BMW\", \"Volvo\", \"Ford\"],\n",
    "  'passings': [3, 7, 2]\n",
    "}\n",
    "\n",
    "print(type(x))\n",
    "\n",
    "ressult = pd.DataFrame(x)\n",
    "\n",
    "print(ressult)\n",
    "print(type(ressult))\n",
    "\n",
    "###################\n",
    "# import pandas as pd\n",
    "\n",
    "# print(pd.__version__)"
   ]
  },
  {
   "cell_type": "code",
   "execution_count": 24,
   "metadata": {},
   "outputs": [
    {
     "name": "stdout",
     "output_type": "stream",
     "text": [
      "1.4.1\n"
     ]
    }
   ],
   "source": [
    "import pandas as pd\n",
    "\n",
    "print(pd.__version__)"
   ]
  },
  {
   "cell_type": "code",
   "execution_count": 31,
   "metadata": {},
   "outputs": [
    {
     "name": "stdout",
     "output_type": "stream",
     "text": [
      "x    3.4\n",
      "y    6.7\n",
      "z    8.9\n",
      "dtype: float64\n",
      "8.9\n"
     ]
    }
   ],
   "source": [
    "#Create a simple Pandas Series from a list:\n",
    "import pandas as pd\n",
    "\n",
    "# a = [1, 7, 2]\n",
    "# x = pd.Series(a)\n",
    "# print(x)\n",
    "\n",
    "#Create your own labels:\n",
    "\n",
    "a = [3.4,6.7,8.9]\n",
    "x = pd.Series(a, index = [\"x\", \"y\", \"z\"])\n",
    "print(x)\n",
    "\n",
    "print(x[\"z\"])\n"
   ]
  },
  {
   "cell_type": "code",
   "execution_count": 37,
   "metadata": {},
   "outputs": [
    {
     "name": "stdout",
     "output_type": "stream",
     "text": [
      "   calories  duration\n",
      "0       420        50\n",
      "1       380        40\n",
      "2       390        45\n",
      "calories    420\n",
      "duration     50\n",
      "Name: 0, dtype: int64\n",
      "   calories  duration\n",
      "0       420        50\n",
      "1       380        40\n"
     ]
    }
   ],
   "source": [
    "#Create a simple Pandas Series from a dictionary:\n",
    "\n",
    "# import pandas as pd\n",
    "# dictionary01 = {\"day1\": 420, \"day2\": 380, \"day3\": 390}\n",
    "# x = pd.Series(dictionary01)\n",
    "\n",
    "# print(x)\n",
    "\n",
    "\n",
    "# #Create a DataFrame from two Series:\n",
    "\n",
    "import pandas as pd\n",
    "\n",
    "data = {\n",
    "  \"calories\": [420, 380, 390],\n",
    "  \"duration\": [50, 40, 45]\n",
    "}\n",
    "x = pd.DataFrame(data)\n",
    "print(x)\n",
    "\n",
    "\n",
    "#Return row 0:\n",
    "#refer to the row index:\n",
    "print(x.loc[0])\n",
    "\n",
    "#Return row 0 and 1:\n",
    "#use a list of indexes:\n",
    "print(x.loc[[0, 1]])\n",
    "\n"
   ]
  },
  {
   "cell_type": "code",
   "execution_count": 47,
   "metadata": {},
   "outputs": [
    {
     "name": "stdout",
     "output_type": "stream",
     "text": [
      "      calories  duration\n",
      "day1       420        50\n",
      "day2        34        40\n",
      "day3       390        45\n"
     ]
    }
   ],
   "source": [
    "# Index Arg.\n",
    "import pandas as pd\n",
    "data = {\n",
    "  \"calories\": [420, 34, 390], \n",
    "  \"duration\": [50, 40, 45]\n",
    "}\n",
    "df = pd.DataFrame(data, index = [\"day1\", \"day2\",\"day3\"])\n",
    "print(df) \n",
    "\n",
    "#refer to the named index:\n",
    "# print(df.loc[\"day2\"])"
   ]
  },
  {
   "cell_type": "code",
   "execution_count": 60,
   "metadata": {},
   "outputs": [
    {
     "name": "stdout",
     "output_type": "stream",
     "text": [
      "      Id  SepalLengthCm  SepalWidthCm  PetalLengthCm  PetalWidthCm  \\\n",
      "149  150            5.9           3.0            5.1           1.8   \n",
      "\n",
      "            Species  \n",
      "149  Iris-virginica  \n",
      "<class 'pandas.core.frame.DataFrame'>\n",
      "RangeIndex: 150 entries, 0 to 149\n",
      "Data columns (total 6 columns):\n",
      " #   Column         Non-Null Count  Dtype  \n",
      "---  ------         --------------  -----  \n",
      " 0   Id             150 non-null    int64  \n",
      " 1   SepalLengthCm  150 non-null    float64\n",
      " 2   SepalWidthCm   150 non-null    float64\n",
      " 3   PetalLengthCm  150 non-null    float64\n",
      " 4   PetalWidthCm   150 non-null    float64\n",
      " 5   Species        150 non-null    object \n",
      "dtypes: float64(4), int64(1), object(1)\n",
      "memory usage: 7.2+ KB\n",
      "None\n"
     ]
    }
   ],
   "source": [
    "import pandas as pd \n",
    "x = pd.read_csv(r\"Iris.csv\")\n",
    "print(x.tail(1))\n",
    "print(x.info())"
   ]
  },
  {
   "cell_type": "code",
   "execution_count": 61,
   "metadata": {},
   "outputs": [
    {
     "name": "stdout",
     "output_type": "stream",
     "text": [
      "               Id  SepalLengthCm  SepalWidthCm  PetalLengthCm  PetalWidthCm\n",
      "count  150.000000     150.000000    150.000000     150.000000    150.000000\n",
      "mean    75.500000       5.843333      3.054000       3.758667      1.198667\n",
      "std     43.445368       0.828066      0.433594       1.764420      0.763161\n",
      "min      1.000000       4.300000      2.000000       1.000000      0.100000\n",
      "25%     38.250000       5.100000      2.800000       1.600000      0.300000\n",
      "50%     75.500000       5.800000      3.000000       4.350000      1.300000\n",
      "75%    112.750000       6.400000      3.300000       5.100000      1.800000\n",
      "max    150.000000       7.900000      4.400000       6.900000      2.500000\n"
     ]
    }
   ],
   "source": [
    "print(x.describe())"
   ]
  },
  {
   "cell_type": "code",
   "execution_count": 65,
   "metadata": {},
   "outputs": [],
   "source": [
    "#Load the CSV into a DataFrame:\n",
    "\n",
    "import pandas as pd\n",
    "\n",
    "x = pd.read_csv('Iris.csv')\n",
    "#x= pd.read_excel(\"Book1.xlsx\")\n",
    "\n",
    "# print(df)\n",
    "\n",
    "#print(x.to_string()) \n",
    "\n",
    "# print(df)\n",
    "#print(x.head())                # tail()\n",
    "# print(x.tail(10)) \n",
    "\n",
    "\n",
    "\n",
    "# # Print information about the data:\n",
    "# print(df.info()) "
   ]
  },
  {
   "cell_type": "code",
   "execution_count": 70,
   "metadata": {},
   "outputs": [
    {
     "data": {
      "image/png": "[encoded data removed]",
      "text/plain": [
       "<Figure size 640x480 with 2 Axes>"
      ]
     },
     "metadata": {},
     "output_type": "display_data"
    }
   ],
   "source": [
    "import pandas as pd  \n",
    "info = pd.DataFrame({  \n",
    "'length': [2, 1.7, 3.6, 2.4, 1],  \n",
    "'width': [4.2, 2.6, 1.6, 5.1, 2.9]  \n",
    "})  \n",
    "hist = info.hist(bins=2)"
   ]
  },
  {
   "cell_type": "code",
   "execution_count": null,
   "metadata": {},
   "outputs": [],
   "source": [
    "# Add a list of names to give each row a name\n",
    "\n",
    "import pandas as pd\n",
    "\n",
    "data = {\n",
    "  \"calories\": [420, 380, 390],\n",
    "  \"duration\": [50, 40, 45]\n",
    "}\n",
    "\n",
    "df = pd.DataFrame(data, index = [\"day1\", \"day2\", \"day3\"])\n",
    "\n",
    "print(df) "
   ]
  },
  {
   "attachments": {},
   "cell_type": "markdown",
   "metadata": {},
   "source": [
    "Pandas DataFrame.append()"
   ]
  },
  {
   "cell_type": "code",
   "execution_count": 76,
   "metadata": {},
   "outputs": [
    {
     "name": "stdout",
     "output_type": "stream",
     "text": [
      "    x   y\n",
      "0  15  24\n",
      "1  25  38\n",
      "2  37  18\n",
      "3  42  45 \n",
      "\n",
      "    x   y\n",
      "0  15  24\n",
      "1  25  38\n",
      "2  37  45\n",
      "    x   y\n",
      "0  15  24\n",
      "1  25  38\n",
      "2  37  18\n",
      "3  42  45\n",
      "4  15  24\n",
      "5  25  38\n",
      "6  37  45\n"
     ]
    },
    {
     "name": "stderr",
     "output_type": "stream",
     "text": [
      "C:\\Users\\dell\\AppData\\Local\\Temp\\ipykernel_16956\\3892393295.py:13: FutureWarning: The frame.append method is deprecated and will be removed from pandas in a future version. Use pandas.concat instead.\n",
      "  print(info1.append(info2, ignore_index = True))\n"
     ]
    }
   ],
   "source": [
    "import pandas as pd     \n",
    "# Create first Dataframe using dictionary   \n",
    "info1 = info = pd.DataFrame({\"x\":[15, 25, 37, 42],   \n",
    "                         \"y\":[24, 38, 18, 45]})     \n",
    "# Create second Dataframe using dictionary   \n",
    "info2 = pd.DataFrame({\"x\":[15, 25, 37],   \n",
    "                    \"y\":[24, 38, 45]})     \n",
    "# print value of info1   \n",
    "print(info1, \"\\n\")    \n",
    "# print values of info2   \n",
    "print(info2)   \n",
    "# append info2 at the end of info1 dataframe   \n",
    "print(info1.append(info2, ignore_index = True))   \n",
    "# Continuous index value will maintained   \n",
    "# across rows in the new appended data frame.   \n",
    "#info.append(info2, ignore_index = True) "
   ]
  },
  {
   "attachments": {},
   "cell_type": "markdown",
   "metadata": {},
   "source": [
    "Pandas DataFrame.apply()\n",
    "\n",
    "Syntax:\n",
    "DataFrame.apply(func, axis=0, broadcast=None, raw=False, reduce=None, result_type=None, args=(), **kwds)"
   ]
  },
  {
   "cell_type": "code",
   "execution_count": 89,
   "metadata": {},
   "outputs": [
    {
     "name": "stdout",
     "output_type": "stream",
     "text": [
      "   foo  bar\n",
      "0    1    2\n",
      "1    1    2\n",
      "2    1    2\n",
      "3    1    2\n"
     ]
    }
   ],
   "source": [
    "# The Pandas apply() function allows the user to pass a function and apply it to every single value of the Pandas series.\n",
    "import numpy as np\n",
    "import pandas as pd\n",
    "\n",
    "info = pd.DataFrame([[2, 7]] * 4, columns=['P', 'Q'])  \n",
    "#print(info.apply(np.sqrt))  \n",
    "\n",
    "#print(info.apply(np.sum, axis=0))  \n",
    "#print(info.apply(np.sum, axis=1))  \n",
    "#print(info.apply(lambda x: [1, 2], axis=0))  \n",
    "#info.apply(lambda x: [1, 2], axis=1, result_type='expand')  \n",
    "#print(info.apply(lambda x: pd.Series([1, 2], index=['foo', 'bar']), axis=1))  \n",
    "# info.apply(lambda x: [1, 2], axis=1, result_type='broadcast')  \n",
    "# info  \n"
   ]
  },
  {
   "attachments": {},
   "cell_type": "markdown",
   "metadata": {},
   "source": [
    "Pandas DataFrame.count()\n",
    "\n",
    "Syntax - DataFrame.count(axis=0, level=None, numeric_only=False)\n"
   ]
  },
  {
   "cell_type": "code",
   "execution_count": 90,
   "metadata": {},
   "outputs": [
    {
     "data": {
      "text/plain": [
       "Person    4\n",
       "Age       3\n",
       "dtype: int64"
      ]
     },
     "execution_count": 90,
     "metadata": {},
     "output_type": "execute_result"
    }
   ],
   "source": [
    "# The Pandas count() is defined as a method that is used to count the number of non-NA cells for each column or row. It is also suitable to work with the non-floating data.\n",
    "\n",
    "import pandas as pd  \n",
    "import numpy as np  \n",
    "info = pd.DataFrame({\"Person\":[\"Parker\", \"Smith\", \"William\", \"John\"],  \n",
    "\"Age\": [27, 29, np.nan, 32] }) \n",
    "info.count()  "
   ]
  },
  {
   "attachments": {},
   "cell_type": "markdown",
   "metadata": {},
   "source": [
    "Pandas DataFrame.hist()\n"
   ]
  },
  {
   "cell_type": "code",
   "execution_count": 20,
   "metadata": {},
   "outputs": [
    {
     "data": {
      "image/png": "[encoded data removed]",
      "text/plain": [
       "<Figure size 640x480 with 2 Axes>"
      ]
     },
     "metadata": {},
     "output_type": "display_data"
    }
   ],
   "source": [
    "# The hist() function is defined as a quick way to understand the distribution of certain numerical variables from the dataset.\n",
    "\n",
    "import pandas as pd  \n",
    "info = pd.DataFrame({  \n",
    "'length': [2, 1.7, 3.6, 2.4, 1],  \n",
    "'width': [4.2, 2.6, 1.6, 5.1, 2.9]  \n",
    "})  \n",
    "hist = info.hist(bins=4)  "
   ]
  },
  {
   "attachments": {},
   "cell_type": "markdown",
   "metadata": {},
   "source": [
    "Pandas DataFrame.sort()\n",
    "\n",
    "We can efficiently perform sorting in the DataFrame through different kinds:\n",
    "\n",
    "By label\n",
    "By Actual value"
   ]
  },
  {
   "cell_type": "code",
   "execution_count": 93,
   "metadata": {},
   "outputs": [
    {
     "name": "stdout",
     "output_type": "stream",
     "text": [
      "       col2      col1\n",
      "1 -0.689858  0.993953\n",
      "3 -0.019918  0.883252\n",
      "7 -2.172945  0.431864\n",
      "2  0.322233 -0.608152\n",
      "4 -1.127863 -0.247232\n",
      "5 -0.556810  0.473796\n",
      "9 -1.192671  1.431119\n",
      "8  0.527309  0.741091\n",
      "0  0.826819  0.303459\n",
      "6  0.462171 -0.710437\n"
     ]
    }
   ],
   "source": [
    "# \n",
    "\n",
    "import pandas as pd  \n",
    "import numpy as np  \n",
    "  \n",
    "info=pd.DataFrame(np.random.randn(10,2),index=[1,3,7,2,4,5,9,8,0,6],columns=['col2','col1'])  \n",
    "print(info) "
   ]
  },
  {
   "attachments": {},
   "cell_type": "markdown",
   "metadata": {},
   "source": [
    "Pandas DataFrame.to_excel()"
   ]
  },
  {
   "cell_type": "code",
   "execution_count": null,
   "metadata": {},
   "outputs": [],
   "source": []
  },
  {
   "cell_type": "code",
   "execution_count": null,
   "metadata": {},
   "outputs": [],
   "source": []
  },
  {
   "cell_type": "code",
   "execution_count": null,
   "metadata": {},
   "outputs": [],
   "source": []
  },
  {
   "cell_type": "code",
   "execution_count": null,
   "metadata": {},
   "outputs": [],
   "source": []
  },
  {
   "cell_type": "code",
   "execution_count": null,
   "metadata": {},
   "outputs": [],
   "source": []
  },
  {
   "cell_type": "code",
   "execution_count": null,
   "metadata": {},
   "outputs": [],
   "source": []
  }
 ],
 "metadata": {
  "kernelspec": {
   "display_name": "Python 3",
   "language": "python",
   "name": "python3"
  },
  "language_info": {
   "codemirror_mode": {
    "name": "ipython",
    "version": 3
   },
   "file_extension": ".py",
   "mimetype": "text/x-python",
   "name": "python",
   "nbconvert_exporter": "python",
   "pygments_lexer": "ipython3",
   "version": "3.10.11"
  },
  "orig_nbformat": 4
 },
 "nbformat": 4,
 "nbformat_minor": 2
}
