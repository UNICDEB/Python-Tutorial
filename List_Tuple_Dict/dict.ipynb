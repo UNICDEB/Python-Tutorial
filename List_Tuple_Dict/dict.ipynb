{
 "cells": [
  {
   "cell_type": "code",
   "execution_count": null,
   "metadata": {},
   "outputs": [],
   "source": [
    "## As of Python version 3.7, dictionaries are ordered. In Python 3.6 and earlier, dictionaries are unordered."
   ]
  },
  {
   "cell_type": "code",
   "execution_count": 1,
   "metadata": {},
   "outputs": [
    {
     "name": "stdout",
     "output_type": "stream",
     "text": [
      "{1: 'Cdac', 2: 'Kolkata', 3: 'Mumbai'}\n",
      "<class 'dict'>\n"
     ]
    }
   ],
   "source": [
    "# \n",
    "a = {1: 'Cdac', 2: 'Kolkata', 3: 'Mumbai'}\n",
    "print(a)\n",
    "print(type(a))\n",
    "\n"
   ]
  },
  {
   "cell_type": "code",
   "execution_count": 8,
   "metadata": {},
   "outputs": [
    {
     "name": "stdout",
     "output_type": "stream",
     "text": [
      "678900\n",
      "4\n"
     ]
    }
   ],
   "source": [
    "a = {\"carname\": \"Suzuki\", \"model\": \"baleno\", \"Price\":678900, \"color\":\"Blue\"}\n",
    "print(a[\"Price\"])\n",
    "print(len(a))"
   ]
  },
  {
   "cell_type": "code",
   "execution_count": 9,
   "metadata": {},
   "outputs": [
    {
     "name": "stdout",
     "output_type": "stream",
     "text": [
      "Kolkata\n"
     ]
    }
   ],
   "source": [
    "a = {1: 'Cdac', 2: 'Kolkata', 3: 'Mumbai'}\n",
    "print(a[2])"
   ]
  },
  {
   "cell_type": "code",
   "execution_count": 10,
   "metadata": {},
   "outputs": [
    {
     "name": "stdout",
     "output_type": "stream",
     "text": [
      "{'Brand': 'Tata', 'Model': '220d', 'Year': 2000}\n",
      "220d\n",
      "3\n"
     ]
    }
   ],
   "source": [
    "# Another Way\n",
    "a = {\n",
    "  \"Brand\": \"Tata\",\n",
    "  \"Model\": \"220d\",\n",
    "  \"Year\": 2000\n",
    "}\n",
    "\n",
    "print(a)\n",
    "print(a[\"Model\"])\n",
    "print(len(a))"
   ]
  },
  {
   "cell_type": "code",
   "execution_count": 11,
   "metadata": {},
   "outputs": [
    {
     "name": "stdout",
     "output_type": "stream",
     "text": [
      "dict_keys(['Brand', 'Model', 'Year'])\n",
      "<class 'dict_keys'>\n"
     ]
    }
   ],
   "source": [
    "# The keys() method will return a list of all the keys in the dictionary.\n",
    "a = {\n",
    "  \"Brand\": \"Tata\",\n",
    "  \"Model\": \"220d\",\n",
    "  \"Year\": 2000\n",
    "}\n",
    "x = a.keys()\n",
    "print(x)\n",
    "print(type(x))"
   ]
  },
  {
   "cell_type": "code",
   "execution_count": 12,
   "metadata": {},
   "outputs": [
    {
     "name": "stdout",
     "output_type": "stream",
     "text": [
      "dict_values(['Tata', '220d', 2000])\n"
     ]
    }
   ],
   "source": [
    "# values()\n",
    "a = {\n",
    "  \"Brand\": \"Tata\",\n",
    "  \"Model\": \"220d\",\n",
    "  \"Year\": 2000\n",
    "}\n",
    "x = a.values()\n",
    "print(x)"
   ]
  },
  {
   "cell_type": "code",
   "execution_count": 14,
   "metadata": {},
   "outputs": [
    {
     "name": "stdout",
     "output_type": "stream",
     "text": [
      "{'Brand': 'Tata', 'Model': '220d', 'Year': 2000}\n",
      "3\n",
      "{'Brand': 'Tata', 'Model': '220d', 'Year': 2000, 'Price': 950000}\n",
      "4\n"
     ]
    }
   ],
   "source": [
    "# Add item\n",
    "a = {\n",
    "  \"Brand\": \"Tata\",\n",
    "  \"Model\": \"220d\",\n",
    "  \"Year\": 2000\n",
    "}\n",
    "print(a)\n",
    "print(len(a))\n",
    "a[\"Price\"] = 950000\n",
    "print(a)\n",
    "print(len(a))"
   ]
  },
  {
   "cell_type": "code",
   "execution_count": 16,
   "metadata": {},
   "outputs": [
    {
     "name": "stdout",
     "output_type": "stream",
     "text": [
      "{'Brand': 'Tata', 'Model': '220d', 'Year': 2000, 'Price': 1045678}\n",
      "{'Brand': 'Tata', 'Model': '220d', 'Year': 2000, 'Price': 950000}\n"
     ]
    }
   ],
   "source": [
    "# Update values\n",
    "a = {\n",
    "  \"Brand\": \"Tata\",\n",
    "  \"Model\": \"220d\",\n",
    "  \"Year\": 2000,\n",
    "  \"Price\": 1045678\n",
    "}\n",
    "\n",
    "print(a)\n",
    "a[\"Price\"] = 950000\n",
    "print(a)"
   ]
  },
  {
   "cell_type": "code",
   "execution_count": 15,
   "metadata": {},
   "outputs": [
    {
     "name": "stdout",
     "output_type": "stream",
     "text": [
      "{'Brand': 'Tata', 'Model': '220d', 'Year': 2000, 'Price': 1045678}\n",
      "{'Brand': 'Tata', 'Model': '220d', 'Year': 2010, 'Price': 1045678}\n"
     ]
    }
   ],
   "source": [
    "# using update()\n",
    "a = {\n",
    "  \"Brand\": \"Tata\",\n",
    "  \"Model\": \"220d\",\n",
    "  \"Year\": 2000,\n",
    "  \"Price\": 1045678\n",
    "}\n",
    "print(a)\n",
    "a.update({\"Year\": 2010})\n",
    "\n",
    "print(a)\n"
   ]
  },
  {
   "cell_type": "code",
   "execution_count": 18,
   "metadata": {},
   "outputs": [
    {
     "name": "stdout",
     "output_type": "stream",
     "text": [
      "{'Brand': 'Tata', 'Year': 2000, 'Price': 1045678}\n"
     ]
    }
   ],
   "source": [
    "# The pop() method removes the item with the specified key name\n",
    "a = {\n",
    "  \"Brand\": \"Tata\",\n",
    "  \"Model\": \"220d\",\n",
    "  \"Year\": 2000,\n",
    "  \"Price\": 1045678\n",
    "}\n",
    "a.pop(\"Model\")\n",
    "print(a)"
   ]
  },
  {
   "cell_type": "code",
   "execution_count": 22,
   "metadata": {},
   "outputs": [
    {
     "name": "stdout",
     "output_type": "stream",
     "text": [
      "{'Brand': 'Tata', 'Model': '220d', 'Year': 2000}\n"
     ]
    }
   ],
   "source": [
    "# The popitem() method removes the last inserted item (in versions before 3.7, a random item is removed instead)\n",
    "a = {\n",
    "  \"Brand\": \"Tata\",\n",
    "  \"Model\": \"220d\",\n",
    "  \"Year\": 2000,\n",
    "  \"Price\": 1045678\n",
    "}\n",
    "a.popitem()\n",
    "print(a)\n"
   ]
  },
  {
   "cell_type": "code",
   "execution_count": 27,
   "metadata": {},
   "outputs": [
    {
     "name": "stdout",
     "output_type": "stream",
     "text": [
      "{'Brand': 'Tata', 'Year': 2000, 'Price': 1045678}\n"
     ]
    }
   ],
   "source": [
    "# The del keyword removes the item with the specified key name\n",
    "a = {\n",
    "  \"Brand\": \"Tata\",\n",
    "  \"Model\": \"220d\",\n",
    "  \"Year\": 2000,\n",
    "  \"Price\": 1045678\n",
    "}\n",
    "del a[\"Model\"]\n",
    "print(a)"
   ]
  },
  {
   "cell_type": "code",
   "execution_count": 29,
   "metadata": {},
   "outputs": [
    {
     "name": "stdout",
     "output_type": "stream",
     "text": [
      "{'Brand': 'Tata', 'Model': '220d', 'Year': 2000, 'Price': 1045678}\n"
     ]
    },
    {
     "ename": "NameError",
     "evalue": "name 'a' is not defined",
     "output_type": "error",
     "traceback": [
      "\u001b[1;31m---------------------------------------------------------------------------\u001b[0m",
      "\u001b[1;31mNameError\u001b[0m                                 Traceback (most recent call last)",
      "\u001b[1;32mc:\\Users\\dell\\Desktop\\PG_DRAT_2022\\python_class\\List_Tuple_Dict\\dict.ipynb Cell 14\u001b[0m in \u001b[0;36m1\n\u001b[0;32m      <a href='vscode-notebook-cell:/c%3A/Users/dell/Desktop/PG_DRAT_2022/python_class/List_Tuple_Dict/dict.ipynb#X15sZmlsZQ%3D%3D?line=7'>8</a>\u001b[0m \u001b[39mprint\u001b[39m(a)\n\u001b[0;32m      <a href='vscode-notebook-cell:/c%3A/Users/dell/Desktop/PG_DRAT_2022/python_class/List_Tuple_Dict/dict.ipynb#X15sZmlsZQ%3D%3D?line=8'>9</a>\u001b[0m \u001b[39mdel\u001b[39;00m a\n\u001b[1;32m---> <a href='vscode-notebook-cell:/c%3A/Users/dell/Desktop/PG_DRAT_2022/python_class/List_Tuple_Dict/dict.ipynb#X15sZmlsZQ%3D%3D?line=9'>10</a>\u001b[0m \u001b[39mprint\u001b[39m(a) \n",
      "\u001b[1;31mNameError\u001b[0m: name 'a' is not defined"
     ]
    }
   ],
   "source": [
    "# The del keyword can also delete the dictionary completely\n",
    "a = {\n",
    "  \"Brand\": \"Tata\",\n",
    "  \"Model\": \"220d\",\n",
    "  \"Year\": 2000,\n",
    "  \"Price\": 1045678\n",
    "}\n",
    "print(a)\n",
    "del a\n",
    "print(a) "
   ]
  },
  {
   "cell_type": "code",
   "execution_count": 31,
   "metadata": {},
   "outputs": [
    {
     "name": "stdout",
     "output_type": "stream",
     "text": [
      "4\n",
      "{}\n",
      "0\n"
     ]
    }
   ],
   "source": [
    "# clear()\n",
    "\n",
    "a = {\n",
    "  \"Brand\": \"Tata\",\n",
    "  \"Model\": \"220d\",\n",
    "  \"Year\": 2000,\n",
    "  \"Price\": 1045678\n",
    "}\n",
    "print(len(a))\n",
    "a.clear()\n",
    "print(a)\n",
    "print(len(a))\n"
   ]
  },
  {
   "cell_type": "code",
   "execution_count": 32,
   "metadata": {},
   "outputs": [
    {
     "name": "stdout",
     "output_type": "stream",
     "text": [
      "{'Brand': 'Tata', 'Model': '220d', 'Year': 2000, 'Price': 1045678}\n",
      "{'Brand': 'Tata', 'Model': '220d', 'Year': 2000, 'Price': 1045678}\n"
     ]
    }
   ],
   "source": [
    "#copy()\n",
    "a = {\n",
    "  \"Brand\": \"Tata\",\n",
    "  \"Model\": \"220d\",\n",
    "  \"Year\": 2000,\n",
    "  \"Price\": 1045678\n",
    "}\n",
    "mydict = a.copy()\n",
    "print(a)\n",
    "print(mydict)\n"
   ]
  },
  {
   "cell_type": "code",
   "execution_count": null,
   "metadata": {},
   "outputs": [],
   "source": [
    "# "
   ]
  },
  {
   "cell_type": "code",
   "execution_count": null,
   "metadata": {},
   "outputs": [],
   "source": []
  },
  {
   "cell_type": "code",
   "execution_count": null,
   "metadata": {},
   "outputs": [],
   "source": []
  }
 ],
 "metadata": {
  "kernelspec": {
   "display_name": "Python 3",
   "language": "python",
   "name": "python3"
  },
  "language_info": {
   "codemirror_mode": {
    "name": "ipython",
    "version": 3
   },
   "file_extension": ".py",
   "mimetype": "text/x-python",
   "name": "python",
   "nbconvert_exporter": "python",
   "pygments_lexer": "ipython3",
   "version": "3.10.11"
  },
  "orig_nbformat": 4
 },
 "nbformat": 4,
 "nbformat_minor": 2
}
