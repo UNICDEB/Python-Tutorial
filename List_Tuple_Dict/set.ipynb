{
 "cells": [
  {
   "cell_type": "code",
   "execution_count": 5,
   "metadata": {},
   "outputs": [
    {
     "name": "stdout",
     "output_type": "stream",
     "text": [
      "sets =  {False, 'cdac', 56, 90, 45.8}\n",
      "<class 'set'>\n"
     ]
    }
   ],
   "source": [
    "# Basic - a = { }\n",
    "a = {\"cdac\", 56, False, 45.8, 90}\n",
    "print(\"sets = \", a)\n",
    "print(type(a))"
   ]
  },
  {
   "cell_type": "code",
   "execution_count": 6,
   "metadata": {},
   "outputs": [
    {
     "name": "stdout",
     "output_type": "stream",
     "text": [
      "sets =  {False, 'cdac', 45.8, 56, 90}\n",
      "<class 'set'>\n"
     ]
    }
   ],
   "source": [
    "# Basic process 2\n",
    "a = set((\"cdac\", 56, False, 45.8,90))\n",
    "print(\"sets = \", a)\n",
    "print(type(a))"
   ]
  },
  {
   "cell_type": "code",
   "execution_count": 7,
   "metadata": {},
   "outputs": [
    {
     "name": "stdout",
     "output_type": "stream",
     "text": [
      "sets =  {56, False, 45.8, 'cdac'}\n"
     ]
    }
   ],
   "source": [
    "# Do not allow duplicate values\n",
    "a = {\"cdac\", 56, False, 45.8, \"cdac\", 56}\n",
    "print(\"sets = \", a)"
   ]
  },
  {
   "cell_type": "code",
   "execution_count": 8,
   "metadata": {},
   "outputs": [
    {
     "name": "stdout",
     "output_type": "stream",
     "text": [
      "sets =  4\n"
     ]
    }
   ],
   "source": [
    "# length using len()\n",
    "a = {\"cdac\", 56, False, 45.8, \"cdac\", 56}\n",
    "print(\"sets = \", len(a))"
   ]
  },
  {
   "cell_type": "code",
   "execution_count": 11,
   "metadata": {},
   "outputs": [
    {
     "name": "stdout",
     "output_type": "stream",
     "text": [
      "{56, False, 45.8, 'cdac'}\n"
     ]
    }
   ],
   "source": [
    "# length using len()\n",
    "a = {\"cdac\", 56, False, 45.8, \"cdac\", 56}\n",
    "print(a)"
   ]
  },
  {
   "cell_type": "code",
   "execution_count": null,
   "metadata": {},
   "outputs": [],
   "source": []
  },
  {
   "cell_type": "code",
   "execution_count": 15,
   "metadata": {},
   "outputs": [
    {
     "name": "stdout",
     "output_type": "stream",
     "text": [
      "sets =  {False, 'cdac', 45.8, 'kol', 56}\n"
     ]
    }
   ],
   "source": [
    "# Add item - setname.add(value)\n",
    "a = {\"cdac\", 56, False, 45.8}\n",
    "a.add(\"kol\")\n",
    "print(\"sets = \", a)"
   ]
  },
  {
   "cell_type": "code",
   "execution_count": 16,
   "metadata": {},
   "outputs": [
    {
     "name": "stdout",
     "output_type": "stream",
     "text": [
      "sets =  {False, 45, 'kolkata', 'cdac', 56, 45.8}\n"
     ]
    }
   ],
   "source": [
    "# Add set1 and set2 and result stored set1 - using update()\n",
    "#  currentset.update(newset)\n",
    "a = {\"cdac\", 56, False, 45.8}\n",
    "b= {45,\"kolkata\"}\n",
    "a.update(b)\n",
    "print(\"sets = \", a)"
   ]
  },
  {
   "cell_type": "code",
   "execution_count": 18,
   "metadata": {},
   "outputs": [
    {
     "name": "stdout",
     "output_type": "stream",
     "text": [
      "sets =  {56, False, 45.8, 'cdac'}\n"
     ]
    }
   ],
   "source": [
    "# Add set1 and set2 and result stored set1 - using update()\n",
    "#  currentset.update(newset)\n",
    "a = {\"cdac\", 56, False, 45.8}\n",
    "b= {45,\"kolkata\"}\n",
    "b.update(a)\n",
    "print(\"sets = \", a)"
   ]
  },
  {
   "cell_type": "code",
   "execution_count": 22,
   "metadata": {},
   "outputs": [
    {
     "name": "stdout",
     "output_type": "stream",
     "text": [
      "sets =  {False, 45.8, 'kolkata', 'cdac', 56, 45}\n"
     ]
    }
   ],
   "source": [
    "# union() method that returns a new set containing all items from both sets\n",
    "a = {\"cdac\", 56, False, 45.8}\n",
    "b= {45,\"kolkata\" , 56}\n",
    "c = a.union(b)  #\n",
    "d = b.union(a)\n",
    "print(\"sets = \", d)"
   ]
  },
  {
   "cell_type": "code",
   "execution_count": 25,
   "metadata": {},
   "outputs": [
    {
     "name": "stdout",
     "output_type": "stream",
     "text": [
      "{56, False, 45.8, 'cdac'}\n",
      "sets =  {False, 45.8, 'cdac'}\n"
     ]
    }
   ],
   "source": [
    "# To remove an item in a set, use the remove(), or the discard() method.\n",
    "a = {\"cdac\", 56, False, 45.8}\n",
    "print(a)\n",
    "a.remove(56)\n",
    "print(\"sets = \", a)"
   ]
  },
  {
   "cell_type": "code",
   "execution_count": 26,
   "metadata": {},
   "outputs": [
    {
     "name": "stdout",
     "output_type": "stream",
     "text": [
      "sets =  {56, 45.8, 'cdac'}\n"
     ]
    }
   ],
   "source": [
    "# To remove an item in a set, use the remove(), or the discard() method.\n",
    "a = {\"cdac\", 56, False, 45.8}\n",
    "a.discard(False)\n",
    "print(\"sets = \", a)"
   ]
  },
  {
   "cell_type": "code",
   "execution_count": 30,
   "metadata": {},
   "outputs": [
    {
     "name": "stdout",
     "output_type": "stream",
     "text": [
      "{56, False, 45.8, 'cdac'}\n",
      "sets =  {False, 45.8, 'cdac'}\n"
     ]
    }
   ],
   "source": [
    "# pop()\n",
    "a = {\"cdac\", 56, False, 45.8}\n",
    "print(a)\n",
    "a.pop()\n",
    "print(\"sets = \", a)"
   ]
  },
  {
   "cell_type": "code",
   "execution_count": 31,
   "metadata": {},
   "outputs": [
    {
     "name": "stdout",
     "output_type": "stream",
     "text": [
      "sets =  set()\n"
     ]
    }
   ],
   "source": [
    "# clear()\n",
    "a = {\"cdac\", 56, False, 45.8}\n",
    "a.clear()\n",
    "print(\"sets = \", a)"
   ]
  },
  {
   "cell_type": "code",
   "execution_count": 36,
   "metadata": {},
   "outputs": [
    {
     "ename": "NameError",
     "evalue": "name 'a' is not defined",
     "output_type": "error",
     "traceback": [
      "\u001b[1;31m---------------------------------------------------------------------------\u001b[0m",
      "\u001b[1;31mNameError\u001b[0m                                 Traceback (most recent call last)",
      "\u001b[1;32mc:\\Users\\dell\\Desktop\\PG_DRAT_2022\\python_class\\List_Tuple_Dict\\set.ipynb Cell 15\u001b[0m in \u001b[0;36m4\n\u001b[0;32m      <a href='vscode-notebook-cell:/c%3A/Users/dell/Desktop/PG_DRAT_2022/python_class/List_Tuple_Dict/set.ipynb#X14sZmlsZQ%3D%3D?line=1'>2</a>\u001b[0m a \u001b[39m=\u001b[39m {\u001b[39m\"\u001b[39m\u001b[39mcdac\u001b[39m\u001b[39m\"\u001b[39m, \u001b[39m56\u001b[39m, \u001b[39mFalse\u001b[39;00m, \u001b[39m45.8\u001b[39m}\n\u001b[0;32m      <a href='vscode-notebook-cell:/c%3A/Users/dell/Desktop/PG_DRAT_2022/python_class/List_Tuple_Dict/set.ipynb#X14sZmlsZQ%3D%3D?line=2'>3</a>\u001b[0m \u001b[39mdel\u001b[39;00m a\n\u001b[1;32m----> <a href='vscode-notebook-cell:/c%3A/Users/dell/Desktop/PG_DRAT_2022/python_class/List_Tuple_Dict/set.ipynb#X14sZmlsZQ%3D%3D?line=3'>4</a>\u001b[0m \u001b[39mprint\u001b[39m(\u001b[39m\"\u001b[39m\u001b[39msets = \u001b[39m\u001b[39m\"\u001b[39m, a)\n",
      "\u001b[1;31mNameError\u001b[0m: name 'a' is not defined"
     ]
    }
   ],
   "source": [
    "# del()\n",
    "a = {\"cdac\", 56, False, 45.8}\n",
    "del a\n",
    "print(\"sets = \", a)"
   ]
  },
  {
   "cell_type": "code",
   "execution_count": 38,
   "metadata": {},
   "outputs": [
    {
     "name": "stdout",
     "output_type": "stream",
     "text": [
      "{'banana', 'microsoft', 'google'}\n"
     ]
    }
   ],
   "source": [
    "# The symmetric_difference() method will return a new set, that contains only the elements that are NOT present in both sets.\n",
    "\n",
    "x = {\"apple\", \"banana\", \"cherry\"}\n",
    "y = {\"google\", \"microsoft\", \"apple\", 'cherry'}\n",
    "\n",
    "z = x.symmetric_difference(y)\n",
    "\n",
    "print(z)"
   ]
  },
  {
   "cell_type": "code",
   "execution_count": 41,
   "metadata": {},
   "outputs": [
    {
     "name": "stdout",
     "output_type": "stream",
     "text": [
      "{'cherry', 'banana', 'microsoft', 'google'}\n"
     ]
    }
   ],
   "source": [
    "# The symmetric_difference_update() method will keep only the elements that are NOT present in both sets.\n",
    "\n",
    "x = {\"apple\", \"banana\", \"cherry\"}\n",
    "y = {\"google\", \"microsoft\", \"apple\"}\n",
    "\n",
    "y.symmetric_difference_update(x)\n",
    "\n",
    "print(y)"
   ]
  },
  {
   "cell_type": "code",
   "execution_count": 43,
   "metadata": {},
   "outputs": [
    {
     "name": "stdout",
     "output_type": "stream",
     "text": [
      "{'apple', 'google'}\n"
     ]
    }
   ],
   "source": [
    "# The intersection() method will return a new set, that only contains the items that are present in both sets.\n",
    "\n",
    "x = {\"apple\", \"banana\", \"cherry\", 'google'}\n",
    "y = {\"google\", \"microsoft\", \"apple\"}\n",
    "\n",
    "z = x.intersection(y)\n",
    "\n",
    "print(z)"
   ]
  },
  {
   "cell_type": "code",
   "execution_count": 44,
   "metadata": {},
   "outputs": [
    {
     "name": "stdout",
     "output_type": "stream",
     "text": [
      "{'apple'}\n"
     ]
    }
   ],
   "source": [
    "# The intersection_update() method will keep only the items that are present in both sets.\n",
    "\n",
    "x = {\"apple\", \"banana\", \"cherry\"}\n",
    "y = {\"google\", \"microsoft\", \"apple\"}\n",
    "\n",
    "x.intersection_update(y)\n",
    "\n",
    "print(x)"
   ]
  },
  {
   "cell_type": "code",
   "execution_count": 46,
   "metadata": {},
   "outputs": [
    {
     "name": "stdout",
     "output_type": "stream",
     "text": [
      "{'microsoft', 'google'}\n"
     ]
    }
   ],
   "source": [
    "# Return a set that contains the items that only exist in set x, and not in set y\n",
    "x = {\"apple\", \"banana\", \"cherry\"}\n",
    "y = {\"google\", \"microsoft\", \"apple\"}\n",
    "\n",
    "z = y.difference(x)\n",
    "\n",
    "print(z)\n"
   ]
  },
  {
   "cell_type": "code",
   "execution_count": 49,
   "metadata": {},
   "outputs": [
    {
     "name": "stdout",
     "output_type": "stream",
     "text": [
      "{'microsoft', 'google'}\n"
     ]
    }
   ],
   "source": [
    "# Remove the items that exist in both sets\n",
    "x = {\"apple\", \"banana\", \"cherry\"}\n",
    "y = {\"google\", \"microsoft\", \"apple\"}\n",
    "\n",
    "y.difference_update(x)\n",
    "\n",
    "print(y)"
   ]
  },
  {
   "cell_type": "code",
   "execution_count": null,
   "metadata": {},
   "outputs": [],
   "source": [
    "# \n"
   ]
  },
  {
   "cell_type": "code",
   "execution_count": null,
   "metadata": {},
   "outputs": [],
   "source": []
  },
  {
   "cell_type": "code",
   "execution_count": null,
   "metadata": {},
   "outputs": [],
   "source": []
  }
 ],
 "metadata": {
  "kernelspec": {
   "display_name": "Python 3",
   "language": "python",
   "name": "python3"
  },
  "language_info": {
   "codemirror_mode": {
    "name": "ipython",
    "version": 3
   },
   "file_extension": ".py",
   "mimetype": "text/x-python",
   "name": "python",
   "nbconvert_exporter": "python",
   "pygments_lexer": "ipython3",
   "version": "3.10.11"
  },
  "orig_nbformat": 4
 },
 "nbformat": 4,
 "nbformat_minor": 2
}
