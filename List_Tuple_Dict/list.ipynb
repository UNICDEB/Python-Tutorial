{
 "cells": [
  {
   "cell_type": "code",
   "execution_count": 24,
   "metadata": {},
   "outputs": [
    {
     "name": "stdout",
     "output_type": "stream",
     "text": [
      "List =  ['CDAC', 45, 78.09, False, 'kolkata', 'CDAC']\n",
      "<class 'list'>\n"
     ]
    }
   ],
   "source": [
    "# Basic\n",
    "x = [\"CDAC\", 45, 78.09, False, 'kolkata' , \"CDAC\"]\n",
    "print(\"List = \", x)\n",
    "print(type(x))"
   ]
  },
  {
   "cell_type": "code",
   "execution_count": 25,
   "metadata": {},
   "outputs": [
    {
     "name": "stdout",
     "output_type": "stream",
     "text": [
      "List =  ['CDAC', 45, 78.09, False, 'kolkata']\n",
      "<class 'list'>\n"
     ]
    }
   ],
   "source": [
    "# Basic process 2\n",
    "x = list((\"CDAC\", 45, 78.09, False, 'kolkata'))\n",
    "print(\"List = \", x)\n",
    "print(type(x))"
   ]
  },
  {
   "cell_type": "code",
   "execution_count": 87,
   "metadata": {},
   "outputs": [
    {
     "ename": "IndexError",
     "evalue": "list index out of range",
     "output_type": "error",
     "traceback": [
      "\u001b[1;31m---------------------------------------------------------------------------\u001b[0m",
      "\u001b[1;31mIndexError\u001b[0m                                Traceback (most recent call last)",
      "\u001b[1;32mc:\\Users\\dell\\Desktop\\PG_DRAT_2022\\python_class\\List_Tuple_Dict\\list.ipynb Cell 3\u001b[0m in \u001b[0;36m3\n\u001b[0;32m      <a href='vscode-notebook-cell:/c%3A/Users/dell/Desktop/PG_DRAT_2022/python_class/List_Tuple_Dict/list.ipynb#W2sZmlsZQ%3D%3D?line=0'>1</a>\u001b[0m \u001b[39m# Access list values using index number\u001b[39;00m\n\u001b[0;32m      <a href='vscode-notebook-cell:/c%3A/Users/dell/Desktop/PG_DRAT_2022/python_class/List_Tuple_Dict/list.ipynb#W2sZmlsZQ%3D%3D?line=1'>2</a>\u001b[0m x \u001b[39m=\u001b[39m \u001b[39mlist\u001b[39m((\u001b[39m\"\u001b[39m\u001b[39mCDAC\u001b[39m\u001b[39m\"\u001b[39m, \u001b[39m45\u001b[39m, \u001b[39m78.09\u001b[39m, \u001b[39mFalse\u001b[39;00m, \u001b[39m'\u001b[39m\u001b[39mkolkata\u001b[39m\u001b[39m'\u001b[39m))\n\u001b[1;32m----> <a href='vscode-notebook-cell:/c%3A/Users/dell/Desktop/PG_DRAT_2022/python_class/List_Tuple_Dict/list.ipynb#W2sZmlsZQ%3D%3D?line=2'>3</a>\u001b[0m \u001b[39mprint\u001b[39m(\u001b[39m\"\u001b[39m\u001b[39mList = \u001b[39m\u001b[39m\"\u001b[39m, x[\u001b[39m7\u001b[39;49m])\n",
      "\u001b[1;31mIndexError\u001b[0m: list index out of range"
     ]
    }
   ],
   "source": [
    "# Access list values using index number\n",
    "x = list((\"CDAC\", 45, 78.09, False, 'kolkata'))\n",
    "print(\"List = \", x[7])"
   ]
  },
  {
   "cell_type": "code",
   "execution_count": 88,
   "metadata": {},
   "outputs": [
    {
     "name": "stdout",
     "output_type": "stream",
     "text": [
      "Length of List =  8\n"
     ]
    }
   ],
   "source": [
    "# length of list\n",
    "x = [\"CDAC\", 45, 78.09, False, 'kolkata',89,12,34]\n",
    "print(\"Length of List = \", len(x))"
   ]
  },
  {
   "cell_type": "code",
   "execution_count": 32,
   "metadata": {},
   "outputs": [
    {
     "name": "stdout",
     "output_type": "stream",
     "text": [
      "List =  ['CDAC', 45, 78.09, False, 'kolkata', 'Kolkata']\n"
     ]
    }
   ],
   "source": [
    "# Append method - listname.append(value)\n",
    "x = [\"CDAC\", 45, 78.09, False, 'kolkata']\n",
    "x.append(\"Kolkata\")\n",
    "print(\"List = \", x)"
   ]
  },
  {
   "cell_type": "code",
   "execution_count": 90,
   "metadata": {},
   "outputs": [
    {
     "name": "stdout",
     "output_type": "stream",
     "text": [
      "5\n",
      "List =  ['CDAC', 45, 78.09, False, 'kolkata', 34]\n",
      "6\n"
     ]
    }
   ],
   "source": [
    "# Insert method - listname.insert(indexNumber, value)\n",
    "x = [\"CDAC\", 45, 78.09, False, 'kolkata']\n",
    "print(len(x))\n",
    "x.insert(5,34)\n",
    "print(\"List = \", x)\n",
    "print(len(x))"
   ]
  },
  {
   "cell_type": "code",
   "execution_count": 91,
   "metadata": {},
   "outputs": [
    {
     "name": "stdout",
     "output_type": "stream",
     "text": [
      "List =  ['CDAC', 45, False, 'kolkata', 45]\n"
     ]
    }
   ],
   "source": [
    "# Remove method - listname.remove(value)\n",
    "x = [\"CDAC\", 45, 78.09, False, 'kolkata', 45]\n",
    "#x.remove(45)\n",
    "x.remove(x[2])#\n",
    "print(\"List = \", x)"
   ]
  },
  {
   "cell_type": "code",
   "execution_count": 94,
   "metadata": {},
   "outputs": [
    {
     "name": "stdout",
     "output_type": "stream",
     "text": [
      "List =  ['CDAC', 45, 78.09, False, 'kolkata', 45]\n"
     ]
    }
   ],
   "source": [
    "#The pop() method removes the specified index. If do not specify the index, the pop() method removes the last item.\n",
    "# listname.pop()\n",
    "\n",
    "x = [\"CDAC\", 45, 78.09, False, 'kolkata', 45, 67]\n",
    "x.pop()\n",
    "print(\"List = \", x)"
   ]
  },
  {
   "cell_type": "code",
   "execution_count": 93,
   "metadata": {},
   "outputs": [
    {
     "name": "stdout",
     "output_type": "stream",
     "text": [
      "List =  ['CDAC', 45, False, 'kolkata']\n"
     ]
    }
   ],
   "source": [
    "#The pop() method removes the specified index. If do not specify the index, the pop() method removes the last item.\n",
    "# listname.pop(indexnumber)\n",
    "\n",
    "x = [\"CDAC\", 45, 78.09, False, 'kolkata']\n",
    "x.pop(2)\n",
    "print(\"List = \", x)"
   ]
  },
  {
   "cell_type": "code",
   "execution_count": 95,
   "metadata": {},
   "outputs": [
    {
     "name": "stdout",
     "output_type": "stream",
     "text": [
      "List =  ['CDAC', 45, 78.09, 'kolkata']\n"
     ]
    }
   ],
   "source": [
    "# The del keyword also removes the specified index and del keyword can also delete the list completely.\n",
    "# removed item using index[del keyword]\n",
    "x = [\"CDAC\", 45, 78.09, False, 'kolkata']\n",
    "del x[3]\n",
    "print(\"List = \", x)"
   ]
  },
  {
   "cell_type": "code",
   "execution_count": 96,
   "metadata": {},
   "outputs": [
    {
     "name": "stdout",
     "output_type": "stream",
     "text": [
      "['CDAC', 45, 78.09, False, 'kolkata']\n"
     ]
    },
    {
     "ename": "NameError",
     "evalue": "name 'x' is not defined",
     "output_type": "error",
     "traceback": [
      "\u001b[1;31m---------------------------------------------------------------------------\u001b[0m",
      "\u001b[1;31mNameError\u001b[0m                                 Traceback (most recent call last)",
      "\u001b[1;32mc:\\Users\\dell\\Desktop\\PG_DRAT_2022\\python_class\\List_Tuple_Dict\\list.ipynb Cell 11\u001b[0m in \u001b[0;36m6\n\u001b[0;32m      <a href='vscode-notebook-cell:/c%3A/Users/dell/Desktop/PG_DRAT_2022/python_class/List_Tuple_Dict/list.ipynb#X13sZmlsZQ%3D%3D?line=3'>4</a>\u001b[0m \u001b[39mprint\u001b[39m(x)\n\u001b[0;32m      <a href='vscode-notebook-cell:/c%3A/Users/dell/Desktop/PG_DRAT_2022/python_class/List_Tuple_Dict/list.ipynb#X13sZmlsZQ%3D%3D?line=4'>5</a>\u001b[0m \u001b[39mdel\u001b[39;00m x\n\u001b[1;32m----> <a href='vscode-notebook-cell:/c%3A/Users/dell/Desktop/PG_DRAT_2022/python_class/List_Tuple_Dict/list.ipynb#X13sZmlsZQ%3D%3D?line=5'>6</a>\u001b[0m \u001b[39mprint\u001b[39m(\u001b[39m\"\u001b[39m\u001b[39mList = \u001b[39m\u001b[39m\"\u001b[39m, x)\n",
      "\u001b[1;31mNameError\u001b[0m: name 'x' is not defined"
     ]
    }
   ],
   "source": [
    "# The del keyword also removes the specified index and del keyword can also delete the list completely.\n",
    "# Delete entire list[del keyword]\n",
    "x = [\"CDAC\", 45, 78.09, False, 'kolkata']\n",
    "print(x)\n",
    "del x\n",
    "print(\"List = \", x)"
   ]
  },
  {
   "cell_type": "code",
   "execution_count": 97,
   "metadata": {},
   "outputs": [
    {
     "name": "stdout",
     "output_type": "stream",
     "text": [
      "5\n",
      "0\n",
      "List =  []\n"
     ]
    }
   ],
   "source": [
    "# The clear() method empties the list, the list still remains but it has no content.\n",
    "x = [\"CDAC\", 45, 78.09, False, 'kolkata']\n",
    "print(len(x))\n",
    "x.clear()\n",
    "print(len(x))\n",
    "print(\"List = \", x)"
   ]
  },
  {
   "cell_type": "code",
   "execution_count": 62,
   "metadata": {},
   "outputs": [
    {
     "name": "stdout",
     "output_type": "stream",
     "text": [
      "0\n"
     ]
    }
   ],
   "source": [
    "# count method\n",
    "a = [1, 3, 7, 8, 7, 5, 4, 6, 8, 5]\n",
    "x = a.count(90)\n",
    "print(x)"
   ]
  },
  {
   "cell_type": "code",
   "execution_count": 99,
   "metadata": {},
   "outputs": [
    {
     "ename": "ValueError",
     "evalue": "89 is not in list",
     "output_type": "error",
     "traceback": [
      "\u001b[1;31m---------------------------------------------------------------------------\u001b[0m",
      "\u001b[1;31mValueError\u001b[0m                                Traceback (most recent call last)",
      "\u001b[1;32mc:\\Users\\dell\\Desktop\\PG_DRAT_2022\\python_class\\List_Tuple_Dict\\list.ipynb Cell 14\u001b[0m in \u001b[0;36m3\n\u001b[0;32m      <a href='vscode-notebook-cell:/c%3A/Users/dell/Desktop/PG_DRAT_2022/python_class/List_Tuple_Dict/list.ipynb#X16sZmlsZQ%3D%3D?line=0'>1</a>\u001b[0m \u001b[39m# Index method\u001b[39;00m\n\u001b[0;32m      <a href='vscode-notebook-cell:/c%3A/Users/dell/Desktop/PG_DRAT_2022/python_class/List_Tuple_Dict/list.ipynb#X16sZmlsZQ%3D%3D?line=1'>2</a>\u001b[0m a \u001b[39m=\u001b[39m [\u001b[39m1\u001b[39m, \u001b[39m3\u001b[39m, \u001b[39m7\u001b[39m, \u001b[39m8\u001b[39m, \u001b[39m7\u001b[39m, \u001b[39m5\u001b[39m, \u001b[39m4\u001b[39m, \u001b[39m6\u001b[39m, \u001b[39m8\u001b[39m, \u001b[39m5\u001b[39m]\n\u001b[1;32m----> <a href='vscode-notebook-cell:/c%3A/Users/dell/Desktop/PG_DRAT_2022/python_class/List_Tuple_Dict/list.ipynb#X16sZmlsZQ%3D%3D?line=2'>3</a>\u001b[0m x \u001b[39m=\u001b[39m a\u001b[39m.\u001b[39;49mindex(\u001b[39m89\u001b[39;49m)\n\u001b[0;32m      <a href='vscode-notebook-cell:/c%3A/Users/dell/Desktop/PG_DRAT_2022/python_class/List_Tuple_Dict/list.ipynb#X16sZmlsZQ%3D%3D?line=3'>4</a>\u001b[0m \u001b[39mprint\u001b[39m(x)\n",
      "\u001b[1;31mValueError\u001b[0m: 89 is not in list"
     ]
    }
   ],
   "source": [
    "# Index method\n",
    "a = [1, 3, 7, 8, 7, 5, 4, 6, 8, 5]\n",
    "x = a.index(89)\n",
    "print(x)"
   ]
  },
  {
   "cell_type": "code",
   "execution_count": 67,
   "metadata": {},
   "outputs": [
    {
     "name": "stdout",
     "output_type": "stream",
     "text": [
      "L1 =  ['kolkata', 56, 7.9]\n",
      "l1 len -  3\n",
      "l2 =  ['cdac', 45]\n",
      "len l2 -  2\n",
      "Final List =  ['kolkata', 56, 7.9]\n",
      "final len- 3\n",
      "l2 final -  ['cdac', 45, 'kolkata', 56, 7.9]\n",
      "l2 len final -  5\n"
     ]
    }
   ],
   "source": [
    "# To append elements from another list to the current list, use the extend() method.\n",
    "l1 = ['kolkata', 56 , 7.9]\n",
    "l2 = [\"cdac\", 45]\n",
    "print(\"L1 = \", l1)\n",
    "print(\"l1 len - \",len(l1))\n",
    "print(\"l2 = \",l2)\n",
    "print(\"len l2 - \", len(l2))\n",
    "l2.extend(l1)\n",
    "print(\"Final List = \", l1)\n",
    "print(\"final len-\", len(l1))\n",
    "print(\"l2 final - \", l2)\n",
    "print(\"l2 len final - \", len(l2))"
   ]
  },
  {
   "cell_type": "code",
   "execution_count": 69,
   "metadata": {},
   "outputs": [
    {
     "name": "stdout",
     "output_type": "stream",
     "text": [
      "Final List =  ['cdac', 45, 'kolkata', 56, 7.9]\n"
     ]
    }
   ],
   "source": [
    "# list join\n",
    "l1 = ['kolkata', 56 , 7.9]\n",
    "l2 = [\"cdac\", 45]\n",
    "print(\"Final List = \", l2+l1)"
   ]
  },
  {
   "cell_type": "code",
   "execution_count": 100,
   "metadata": {},
   "outputs": [
    {
     "name": "stdout",
     "output_type": "stream",
     "text": [
      "Final List =  ['kolkata', 56, 7.9, 'kolkata', 56, 7.9, 'kolkata', 56, 7.9]\n"
     ]
    }
   ],
   "source": [
    "# list multi\n",
    "l1 = ['kolkata', 56 , 7.9]\n",
    "\n",
    "print(\"Final List = \", l1*3)"
   ]
  },
  {
   "cell_type": "code",
   "execution_count": 102,
   "metadata": {},
   "outputs": [
    {
     "name": "stdout",
     "output_type": "stream",
     "text": [
      "Sorting list =  [1, 7, 12.01, 45, 78, 90]\n"
     ]
    }
   ],
   "source": [
    "# List Sorting using sort() - listname.sort()\n",
    "# Assending order\n",
    "l1= [78,45,1,7,90,12.01]\n",
    "l1.sort()\n",
    "print(\"Sorting list = \",l1)"
   ]
  },
  {
   "cell_type": "code",
   "execution_count": 101,
   "metadata": {},
   "outputs": [
    {
     "ename": "TypeError",
     "evalue": "'<' not supported between instances of 'int' and 'str'",
     "output_type": "error",
     "traceback": [
      "\u001b[1;31m---------------------------------------------------------------------------\u001b[0m",
      "\u001b[1;31mTypeError\u001b[0m                                 Traceback (most recent call last)",
      "\u001b[1;32mc:\\Users\\dell\\Desktop\\PG_DRAT_2022\\python_class\\List_Tuple_Dict\\list.ipynb Cell 19\u001b[0m in \u001b[0;36m3\n\u001b[0;32m      <a href='vscode-notebook-cell:/c%3A/Users/dell/Desktop/PG_DRAT_2022/python_class/List_Tuple_Dict/list.ipynb#X30sZmlsZQ%3D%3D?line=0'>1</a>\u001b[0m \u001b[39m# Assending order\u001b[39;00m\n\u001b[0;32m      <a href='vscode-notebook-cell:/c%3A/Users/dell/Desktop/PG_DRAT_2022/python_class/List_Tuple_Dict/list.ipynb#X30sZmlsZQ%3D%3D?line=1'>2</a>\u001b[0m l1\u001b[39m=\u001b[39m [\u001b[39m\"\u001b[39m\u001b[39madac\u001b[39m\u001b[39m\"\u001b[39m, \u001b[39m\"\u001b[39m\u001b[39maam\u001b[39m\u001b[39m\"\u001b[39m, \u001b[39m\"\u001b[39m\u001b[39msam\u001b[39m\u001b[39m\"\u001b[39m, \u001b[39m67\u001b[39m, \u001b[39m90\u001b[39m]\n\u001b[1;32m----> <a href='vscode-notebook-cell:/c%3A/Users/dell/Desktop/PG_DRAT_2022/python_class/List_Tuple_Dict/list.ipynb#X30sZmlsZQ%3D%3D?line=2'>3</a>\u001b[0m l1\u001b[39m.\u001b[39;49msort()\n\u001b[0;32m      <a href='vscode-notebook-cell:/c%3A/Users/dell/Desktop/PG_DRAT_2022/python_class/List_Tuple_Dict/list.ipynb#X30sZmlsZQ%3D%3D?line=3'>4</a>\u001b[0m \u001b[39mprint\u001b[39m(\u001b[39m\"\u001b[39m\u001b[39mSorting list = \u001b[39m\u001b[39m\"\u001b[39m,l1)\n",
      "\u001b[1;31mTypeError\u001b[0m: '<' not supported between instances of 'int' and 'str'"
     ]
    }
   ],
   "source": [
    "# Assending order\n",
    "l1= [\"adac\", \"aam\", \"sam\", 67, 90]\n",
    "l1.sort()\n",
    "print(\"Sorting list = \",l1)"
   ]
  },
  {
   "cell_type": "code",
   "execution_count": 76,
   "metadata": {},
   "outputs": [
    {
     "name": "stdout",
     "output_type": "stream",
     "text": [
      "Sorting list =  [90, 78, 45, 12, 7, 1]\n"
     ]
    }
   ],
   "source": [
    "# List Sorting using sort()\n",
    "# Dec. order\n",
    "l1= [78,45,1,7,90,12]\n",
    "l1.sort(reverse=True)\n",
    "print(\"Sorting list = \",l1)"
   ]
  },
  {
   "cell_type": "code",
   "execution_count": 83,
   "metadata": {},
   "outputs": [
    {
     "name": "stdout",
     "output_type": "stream",
     "text": [
      "[78, 45, 1, 7, 90, 12]\n",
      "list =  [78, 45, 1, 7, 90, 12]\n"
     ]
    }
   ],
   "source": [
    "# copy list using copy() - newlistname = listname.copy()\n",
    "l1= [78,45,1,7,90,12]\n",
    "l2 = l1.copy()\n",
    "print(l1)\n",
    "print(\"list = \",l2)"
   ]
  },
  {
   "cell_type": "code",
   "execution_count": 85,
   "metadata": {},
   "outputs": [
    {
     "name": "stdout",
     "output_type": "stream",
     "text": [
      "list =  [78, 45, 1, 7, 90, 12]\n"
     ]
    }
   ],
   "source": [
    "# copy list\n",
    "l1= [78,45,1,7,90,12]\n",
    "l2 = list(l1)\n",
    "print(\"list = \",l2)"
   ]
  }
 ],
 "metadata": {
  "kernelspec": {
   "display_name": "Python 3",
   "language": "python",
   "name": "python3"
  },
  "language_info": {
   "codemirror_mode": {
    "name": "ipython",
    "version": 3
   },
   "file_extension": ".py",
   "mimetype": "text/x-python",
   "name": "python",
   "nbconvert_exporter": "python",
   "pygments_lexer": "ipython3",
   "version": "3.10.11"
  },
  "orig_nbformat": 4
 },
 "nbformat": 4,
 "nbformat_minor": 2
}
