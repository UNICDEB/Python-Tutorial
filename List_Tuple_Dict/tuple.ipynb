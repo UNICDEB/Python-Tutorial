{
 "cells": [
  {
   "cell_type": "code",
   "execution_count": null,
   "metadata": {},
   "outputs": [],
   "source": [
    "# systax of TUPLE\n",
    "# tuple name = (any kind of value)"
   ]
  },
  {
   "cell_type": "code",
   "execution_count": 16,
   "metadata": {},
   "outputs": [
    {
     "name": "stdout",
     "output_type": "stream",
     "text": [
      "Tuples =  ('CDAC', 45, 78.09, False, 'kolkata', 'CDAC', 78.09)\n",
      "<class 'tuple'>\n"
     ]
    }
   ],
   "source": [
    "# Basic \n",
    "a = (\"CDAC\", 45, 78.09 , False, 'kolkata' , \"CDAC\",78.09)\n",
    "print(\"Tuples = \", a)\n",
    "print(type(a))"
   ]
  },
  {
   "cell_type": "code",
   "execution_count": 15,
   "metadata": {},
   "outputs": [
    {
     "name": "stdout",
     "output_type": "stream",
     "text": [
      "Tuples =  ('CDAC', 45, 78.09, False, 'kolkata')\n",
      "<class 'tuple'>\n"
     ]
    }
   ],
   "source": [
    "# Basic process 2\n",
    "a = tuple((\"CDAC\", 45, 78.09, False, 'kolkata'))\n",
    "print(\"Tuples = \", a)\n",
    "print(type(a))"
   ]
  },
  {
   "cell_type": "code",
   "execution_count": 20,
   "metadata": {},
   "outputs": [
    {
     "name": "stdout",
     "output_type": "stream",
     "text": [
      "LEN =  7\n"
     ]
    }
   ],
   "source": [
    "# Length of tuple using len()\n",
    "a = (\"CDAC\", 45, 78.09, False, 'kolkata', 78, 90)\n",
    "# b = len(a)\n",
    "print(\"LEN = \", len(a))\n"
   ]
  },
  {
   "cell_type": "code",
   "execution_count": 28,
   "metadata": {},
   "outputs": [
    {
     "ename": "IndexError",
     "evalue": "tuple index out of range",
     "output_type": "error",
     "traceback": [
      "\u001b[1;31m---------------------------------------------------------------------------\u001b[0m",
      "\u001b[1;31mIndexError\u001b[0m                                Traceback (most recent call last)",
      "\u001b[1;32mc:\\Users\\dell\\Desktop\\PG_DRAT_2022\\python_class\\List_Tuple_Dict\\tuple.ipynb Cell 5\u001b[0m in \u001b[0;36m3\n\u001b[0;32m      <a href='vscode-notebook-cell:/c%3A/Users/dell/Desktop/PG_DRAT_2022/python_class/List_Tuple_Dict/tuple.ipynb#W3sZmlsZQ%3D%3D?line=0'>1</a>\u001b[0m \u001b[39m# Access value using index\u001b[39;00m\n\u001b[0;32m      <a href='vscode-notebook-cell:/c%3A/Users/dell/Desktop/PG_DRAT_2022/python_class/List_Tuple_Dict/tuple.ipynb#W3sZmlsZQ%3D%3D?line=1'>2</a>\u001b[0m a \u001b[39m=\u001b[39m (\u001b[39m\"\u001b[39m\u001b[39mCDAC\u001b[39m\u001b[39m\"\u001b[39m, \u001b[39m45\u001b[39m, \u001b[39m78.09\u001b[39m, \u001b[39mFalse\u001b[39;00m, \u001b[39m'\u001b[39m\u001b[39mkolkata\u001b[39m\u001b[39m'\u001b[39m)\n\u001b[1;32m----> <a href='vscode-notebook-cell:/c%3A/Users/dell/Desktop/PG_DRAT_2022/python_class/List_Tuple_Dict/tuple.ipynb#W3sZmlsZQ%3D%3D?line=2'>3</a>\u001b[0m b \u001b[39m=\u001b[39m a[\u001b[39m-\u001b[39;49m\u001b[39m6\u001b[39;49m]\n\u001b[0;32m      <a href='vscode-notebook-cell:/c%3A/Users/dell/Desktop/PG_DRAT_2022/python_class/List_Tuple_Dict/tuple.ipynb#W3sZmlsZQ%3D%3D?line=3'>4</a>\u001b[0m \u001b[39mprint\u001b[39m(\u001b[39m\"\u001b[39m\u001b[39mValue is - \u001b[39m\u001b[39m\"\u001b[39m, b)\n",
      "\u001b[1;31mIndexError\u001b[0m: tuple index out of range"
     ]
    }
   ],
   "source": [
    "# Access value using index\n",
    "a = (\"CDAC\", 45, 78.09, False, 'kolkata')\n",
    "b = a[-6]\n",
    "print(\"Value is - \", b)\n"
   ]
  },
  {
   "cell_type": "code",
   "execution_count": 29,
   "metadata": {},
   "outputs": [
    {
     "ename": "TypeError",
     "evalue": "'tuple' object does not support item assignment",
     "output_type": "error",
     "traceback": [
      "\u001b[1;31m---------------------------------------------------------------------------\u001b[0m",
      "\u001b[1;31mTypeError\u001b[0m                                 Traceback (most recent call last)",
      "\u001b[1;32mc:\\Users\\dell\\Desktop\\PG_DRAT_2022\\python_class\\List_Tuple_Dict\\tuple.ipynb Cell 6\u001b[0m in \u001b[0;36m3\n\u001b[0;32m      <a href='vscode-notebook-cell:/c%3A/Users/dell/Desktop/PG_DRAT_2022/python_class/List_Tuple_Dict/tuple.ipynb#W4sZmlsZQ%3D%3D?line=0'>1</a>\u001b[0m \u001b[39m# Try to change value in tuple\u001b[39;00m\n\u001b[0;32m      <a href='vscode-notebook-cell:/c%3A/Users/dell/Desktop/PG_DRAT_2022/python_class/List_Tuple_Dict/tuple.ipynb#W4sZmlsZQ%3D%3D?line=1'>2</a>\u001b[0m a \u001b[39m=\u001b[39m (\u001b[39m\"\u001b[39m\u001b[39mCDAC\u001b[39m\u001b[39m\"\u001b[39m, \u001b[39m45\u001b[39m, \u001b[39m78.09\u001b[39m, \u001b[39mFalse\u001b[39;00m, \u001b[39m'\u001b[39m\u001b[39mkolkata\u001b[39m\u001b[39m'\u001b[39m)\n\u001b[1;32m----> <a href='vscode-notebook-cell:/c%3A/Users/dell/Desktop/PG_DRAT_2022/python_class/List_Tuple_Dict/tuple.ipynb#W4sZmlsZQ%3D%3D?line=2'>3</a>\u001b[0m a[\u001b[39m1\u001b[39;49m] \u001b[39m=\u001b[39m \u001b[39m\"\u001b[39m\u001b[39mdelhi\u001b[39m\u001b[39m\"\u001b[39m\n\u001b[0;32m      <a href='vscode-notebook-cell:/c%3A/Users/dell/Desktop/PG_DRAT_2022/python_class/List_Tuple_Dict/tuple.ipynb#W4sZmlsZQ%3D%3D?line=3'>4</a>\u001b[0m \u001b[39mprint\u001b[39m(\u001b[39m\"\u001b[39m\u001b[39mValue is - \u001b[39m\u001b[39m\"\u001b[39m, a)\n",
      "\u001b[1;31mTypeError\u001b[0m: 'tuple' object does not support item assignment"
     ]
    }
   ],
   "source": [
    "# Try to change value in tuple\n",
    "a = (\"CDAC\", 45, 78.09, False, 'kolkata')\n",
    "a[1] = \"delhi\"\n",
    "print(\"Value is - \", a)"
   ]
  },
  {
   "cell_type": "code",
   "execution_count": 30,
   "metadata": {},
   "outputs": [
    {
     "name": "stdout",
     "output_type": "stream",
     "text": [
      "Tuples =  ('CDAC', 45, 78.09, False, 'kolkata', 23, 56, 'Mumbai')\n"
     ]
    }
   ],
   "source": [
    "# Tuple join \n",
    "a = (\"CDAC\", 45, 78.09, False, 'kolkata')\n",
    "b= (23,56,\"Mumbai\")\n",
    "print(\"Tuples = \", a+b)\n"
   ]
  },
  {
   "cell_type": "code",
   "execution_count": 32,
   "metadata": {},
   "outputs": [
    {
     "name": "stdout",
     "output_type": "stream",
     "text": [
      "Tuples =  ('CDAC', 45, 78.09, False, 'kolkata', 'CDAC', 45, 78.09, False, 'kolkata', 'CDAC', 45, 78.09, False, 'kolkata', 'CDAC', 45, 78.09, False, 'kolkata', 'CDAC', 45, 78.09, False, 'kolkata', 'CDAC', 45, 78.09, False, 'kolkata', 'CDAC', 45, 78.09, False, 'kolkata', 'CDAC', 45, 78.09, False, 'kolkata', 'CDAC', 45, 78.09, False, 'kolkata', 'CDAC', 45, 78.09, False, 'kolkata')\n"
     ]
    }
   ],
   "source": [
    "# Multiply Tuple\n",
    "a = (\"CDAC\", 45, 78.09, False, 'kolkata')\n",
    "c= a*10\n",
    "print(\"Tuples = \", c)"
   ]
  },
  {
   "cell_type": "code",
   "execution_count": 38,
   "metadata": {},
   "outputs": [
    {
     "name": "stdout",
     "output_type": "stream",
     "text": [
      "1\n"
     ]
    }
   ],
   "source": [
    "# count() - Returns the number of times a specified value occurs in a tuple  \n",
    "a = (1, 3, 7, 8, 7, 5, 4, 6, 8, 5,7,7,\"cdac\")\n",
    "x = a.count(\"cdac\")\n",
    "print(x)"
   ]
  },
  {
   "cell_type": "code",
   "execution_count": 43,
   "metadata": {},
   "outputs": [
    {
     "name": "stdout",
     "output_type": "stream",
     "text": [
      "0\n"
     ]
    }
   ],
   "source": [
    "# index() - Searches the tuple for a specified value and return the position where it was found \n",
    "\n",
    "a = (1, 3, 7, 8, 7, 5, 4, 6, 8, 5)\n",
    "x = a.index(1)\n",
    "print(x)"
   ]
  },
  {
   "cell_type": "code",
   "execution_count": 46,
   "metadata": {},
   "outputs": [
    {
     "name": "stdout",
     "output_type": "stream",
     "text": [
      "(1, 2, 3, 4, 5, 4, 5)\n",
      "(1, 2, 3, 4, 5)\n",
      "(4, 5)\n"
     ]
    }
   ],
   "source": [
    "a=(1,2,3,4,5)\n",
    "b=(4,5)\n",
    "print(a+b)\n",
    "print(a)\n",
    "print(b)"
   ]
  },
  {
   "cell_type": "code",
   "execution_count": null,
   "metadata": {},
   "outputs": [],
   "source": []
  }
 ],
 "metadata": {
  "kernelspec": {
   "display_name": "Python 3",
   "language": "python",
   "name": "python3"
  },
  "language_info": {
   "codemirror_mode": {
    "name": "ipython",
    "version": 3
   },
   "file_extension": ".py",
   "mimetype": "text/x-python",
   "name": "python",
   "nbconvert_exporter": "python",
   "pygments_lexer": "ipython3",
   "version": "3.10.11"
  },
  "orig_nbformat": 4
 },
 "nbformat": 4,
 "nbformat_minor": 2
}
