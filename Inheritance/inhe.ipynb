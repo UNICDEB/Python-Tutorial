{
 "cells": [
  {
   "cell_type": "code",
   "execution_count": null,
   "metadata": {},
   "outputs": [],
   "source": [
    "# Syntax\n",
    "\n",
    "# # define a superclass\n",
    "# class super_class:\n",
    "#     # attributes and method definition\n",
    "\n",
    "# # inheritance\n",
    "# class sub_class(super_class):\n",
    "#     # attributes and method of super_class\n",
    "#     # attributes and method of sub_class"
   ]
  },
  {
   "cell_type": "code",
   "execution_count": 4,
   "metadata": {},
   "outputs": [
    {
     "name": "stdout",
     "output_type": "stream",
     "text": [
      "I can eat\n",
      "My name is  Rocky\n"
     ]
    }
   ],
   "source": [
    "# \n",
    "\n",
    "class Animal:\n",
    "\n",
    "    # attribute and method of the parent class\n",
    "    name = \"\"\n",
    "    \n",
    "    def eat(self):\n",
    "        print(\"I can eat\")\n",
    "\n",
    "# inherit from Animal\n",
    "class Dog(Animal):\n",
    "\n",
    "    # new method in subclass\n",
    "    def display(self):\n",
    "        # access name attribute of superclass using self\n",
    "        print(\"My name is \", self.name)\n",
    "\n",
    "# create an object of the subclass\n",
    "labrador = Dog()\n",
    "\n",
    "# access superclass attribute and method \n",
    "labrador.name = \"Rocky\"\n",
    "labrador.eat()\n",
    "\n",
    "# call subclass method \n",
    "labrador.display()"
   ]
  },
  {
   "cell_type": "code",
   "execution_count": 5,
   "metadata": {},
   "outputs": [
    {
     "name": "stdout",
     "output_type": "stream",
     "text": [
      "I like to eat bones\n"
     ]
    }
   ],
   "source": [
    "# Method Overriding\n",
    "#\n",
    "class Animal:\n",
    "\n",
    "    # attributes and method of the parent class\n",
    "    name = \"\"\n",
    "    \n",
    "    def eat(self):\n",
    "        print(\"I can eat\")\n",
    "\n",
    "# inherit from Animal\n",
    "class Dog(Animal):\n",
    "\n",
    "    # override eat() method\n",
    "    def eat(self):\n",
    "        print(\"I like to eat bones\")\n",
    "\n",
    "# create an object of the subclass\n",
    "labrador = Dog()\n",
    "\n",
    "# call the eat() method on the labrador object\n",
    "labrador.eat()"
   ]
  },
  {
   "cell_type": "code",
   "execution_count": 6,
   "metadata": {},
   "outputs": [
    {
     "name": "stdout",
     "output_type": "stream",
     "text": [
      "I can eat\n",
      "I like to eat bones\n"
     ]
    }
   ],
   "source": [
    "# The super() Method in Python Inheritance\n",
    "#  if we need to access the superclass method from the subclass, we use the super() method.\n",
    "\n",
    "class Animal:\n",
    "\n",
    "    name = \"\"\n",
    "    \n",
    "    def eat(self):\n",
    "        print(\"I can eat\")\n",
    "\n",
    "# inherit from Animal\n",
    "class Dog(Animal):\n",
    "    \n",
    "    # override eat() method\n",
    "    def eat(self):\n",
    "        \n",
    "        # call the eat() method of the superclass using super()\n",
    "        super().eat()\n",
    "        \n",
    "        print(\"I like to eat bones\")\n",
    "\n",
    "# create an object of the subclass\n",
    "labrador = Dog()\n",
    "\n",
    "labrador.eat()"
   ]
  },
  {
   "cell_type": "code",
   "execution_count": null,
   "metadata": {},
   "outputs": [],
   "source": []
  },
  {
   "cell_type": "code",
   "execution_count": null,
   "metadata": {},
   "outputs": [],
   "source": []
  }
 ],
 "metadata": {
  "kernelspec": {
   "display_name": "Python 3",
   "language": "python",
   "name": "python3"
  },
  "language_info": {
   "codemirror_mode": {
    "name": "ipython",
    "version": 3
   },
   "file_extension": ".py",
   "mimetype": "text/x-python",
   "name": "python",
   "nbconvert_exporter": "python",
   "pygments_lexer": "ipython3",
   "version": "3.10.11"
  },
  "orig_nbformat": 4
 },
 "nbformat": 4,
 "nbformat_minor": 2
}
