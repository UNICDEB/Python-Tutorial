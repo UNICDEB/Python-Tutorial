{
 "cells": [
  {
   "cell_type": "code",
   "execution_count": 2,
   "metadata": {},
   "outputs": [
    {
     "name": "stdout",
     "output_type": "stream",
     "text": [
      "(3,5)\n"
     ]
    },
    {
     "data": {
      "text/plain": [
       "'In the above example, what actually happens is that, when we use p1 + p2, \\nPython calls p1.__add__(p2) which in turn is Point.__add__(p1,p2). \\nAfter this, the addition operation is carried out the way we specified.'"
      ]
     },
     "execution_count": 2,
     "metadata": {},
     "output_type": "execute_result"
    }
   ],
   "source": [
    "# Example: + Operator Overloading in Python\n",
    "# To overload the + operator, we will need to implement __add__() function in the class.\n",
    "\n",
    "class Point:\n",
    "    def __init__(self, x=0, y=0):\n",
    "        self.x = x\n",
    "        self.y = y\n",
    "\n",
    "    def __str__(self):\n",
    "        return \"({0},{1})\".format(self.x, self.y)\n",
    "\n",
    "    def __add__(self, other):\n",
    "        x = self.x + other.x\n",
    "        y = self.y + other.y\n",
    "        return Point(x, y)\n",
    "\n",
    "\n",
    "p1 = Point(1, 2)\n",
    "p2 = Point(2, 3)\n",
    "\n",
    "print(p1+p2)\n",
    "\n",
    "\"\"\"In the above example, what actually happens is that, when we use p1 + p2, \n",
    "Python calls p1.__add__(p2) which in turn is Point.__add__(p1,p2). \n",
    "After this, the addition operation is carried out the way we specified.\"\"\""
   ]
  },
  {
   "cell_type": "code",
   "execution_count": 3,
   "metadata": {},
   "outputs": [
    {
     "name": "stdout",
     "output_type": "stream",
     "text": [
      "True\n",
      "False\n"
     ]
    },
    {
     "data": {
      "text/plain": [
       "\"Here, __lt__() overloads the < operator to compare the age attribute of two objects.\\n\\nThe __lt__() method returns,\\n\\nTrue - if the first object's age is less than the second object's age\\nFalse - if the first object's age is greater than the second object's age\""
      ]
     },
     "execution_count": 3,
     "metadata": {},
     "output_type": "execute_result"
    }
   ],
   "source": [
    "# Overloading Comparison Operators\n",
    "# Here's an example of how we can overload the < operator to compare two objects the Person class based on their age\n",
    "\n",
    "class Person:\n",
    "    def __init__(self, name, age):\n",
    "        self.name = name\n",
    "        self.age = age\n",
    "\n",
    "    # overload < operator\n",
    "    def __lt__(self, other):\n",
    "        return self.age < other.age\n",
    "\n",
    "p1 = Person(\"Alice\", 200)\n",
    "p2 = Person(\"Bob\", 30)\n",
    "\n",
    "print(p1 < p2)  # prints True\n",
    "print(p2 < p1)  # prints False\n",
    "\n",
    "\"\"\"Here, __lt__() overloads the < operator to compare the age attribute of two objects.\n",
    "\n",
    "The __lt__() method returns,\n",
    "\n",
    "True - if the first object's age is less than the second object's age\n",
    "False - if the first object's age is greater than the second object's age\"\"\""
   ]
  },
  {
   "cell_type": "code",
   "execution_count": null,
   "metadata": {},
   "outputs": [],
   "source": []
  },
  {
   "cell_type": "code",
   "execution_count": null,
   "metadata": {},
   "outputs": [],
   "source": []
  },
  {
   "cell_type": "code",
   "execution_count": null,
   "metadata": {},
   "outputs": [],
   "source": []
  }
 ],
 "metadata": {
  "kernelspec": {
   "display_name": "Python 3",
   "language": "python",
   "name": "python3"
  },
  "language_info": {
   "codemirror_mode": {
    "name": "ipython",
    "version": 3
   },
   "file_extension": ".py",
   "mimetype": "text/x-python",
   "name": "python",
   "nbconvert_exporter": "python",
   "pygments_lexer": "ipython3",
   "version": "3.10.11"
  },
  "orig_nbformat": 4
 },
 "nbformat": 4,
 "nbformat_minor": 2
}
